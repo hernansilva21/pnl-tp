{
  "cells": [
    {
      "cell_type": "markdown",
      "metadata": {
        "id": "view-in-github",
        "colab_type": "text"
      },
      "source": [
        "<a href=\"https://colab.research.google.com/github/hernansilva21/pnl-tp/blob/main/desafio3/Desafio_3_modelo_lenguaje_char.ipynb\" target=\"_parent\"><img src=\"https://colab.research.google.com/assets/colab-badge.svg\" alt=\"Open In Colab\"/></a>"
      ]
    },
    {
      "cell_type": "markdown",
      "metadata": {
        "id": "g3yeJGnCYxuF"
      },
      "source": [
        "<img src=\"https://github.com/hernancontigiani/ceia_memorias_especializacion/raw/master/Figures/logoFIUBA.jpg\" width=\"500\" align=\"center\">\n",
        "\n",
        "\n",
        "# Procesamiento de lenguaje natural\n",
        "## Modelo de lenguaje con tokenización por caracteres"
      ]
    },
    {
      "cell_type": "markdown",
      "metadata": {
        "id": "Iv5PEwGzZA9-"
      },
      "source": [
        "### Consigna\n",
        "- Seleccionar un corpus de texto sobre el cual entrenar el modelo de lenguaje.\n",
        "- Realizar el pre-procesamiento adecuado para tokenizar el corpus, estructurar el dataset y separar entre datos de entrenamiento y validación.\n",
        "- Proponer arquitecturas de redes neuronales basadas en unidades recurrentes para implementar un modelo de lenguaje.\n",
        "- Con el o los modelos que consideren adecuados, generar nuevas secuencias a partir de secuencias de contexto con las estrategias de greedy search y beam search determístico y estocástico. En este último caso observar el efecto de la temperatura en la generación de secuencias.\n",
        "\n",
        "\n",
        "### Sugerencias\n",
        "- Durante el entrenamiento, guiarse por el descenso de la perplejidad en los datos de validación para finalizar el entrenamiento. Para ello se provee un callback.\n",
        "- Explorar utilizar SimpleRNN (celda de Elman), LSTM y GRU.\n",
        "- rmsprop es el optimizador recomendado para la buena convergencia. No obstante se pueden explorar otros.\n"
      ]
    },
    {
      "cell_type": "code",
      "execution_count": null,
      "metadata": {
        "id": "Y-QdFbHZYj7C"
      },
      "outputs": [],
      "source": [
        "import random\n",
        "import io\n",
        "import pickle\n",
        "\n",
        "import numpy as np\n",
        "import pandas as pd\n",
        "import matplotlib.pyplot as plt\n",
        "from sklearn.model_selection import train_test_split\n",
        "\n",
        "from tensorflow import keras\n",
        "from tensorflow.keras import layers\n",
        "from keras.utils import to_categorical\n",
        "from keras.models import Sequential\n",
        "from keras.layers import Dense, LSTM, Embedding, Dropout\n",
        "from tensorflow.keras.losses import SparseCategoricalCrossentropy"
      ]
    },
    {
      "cell_type": "markdown",
      "metadata": {
        "id": "xTvXlEKQZdqx"
      },
      "source": [
        "### Datos\n",
        "Utilizaremos como dataset La Metamorfosis de Franz Kafka."
      ]
    },
    {
      "cell_type": "code",
      "execution_count": null,
      "metadata": {
        "id": "7amy6uUaBLVD"
      },
      "outputs": [],
      "source": [
        "# descargar de textos.info\n",
        "import urllib.request\n",
        "\n",
        "# Para leer y parsear el texto en HTML de wikipedia\n",
        "import bs4 as bs"
      ]
    },
    {
      "cell_type": "code",
      "execution_count": null,
      "metadata": {
        "id": "6v_ickFwBJTy"
      },
      "outputs": [],
      "source": [
        "raw_html = urllib.request.urlopen('https://www.textos.info/franz-kafka/la-metamorfosis/ebook')\n",
        "raw_html = raw_html.read()\n",
        "\n",
        "# Parsear artículo, 'lxml' es el parser a utilizar\n",
        "article_html = bs.BeautifulSoup(raw_html, 'lxml')\n",
        "\n",
        "# Encontrar todos los párrafos del HTML (bajo el tag <p>)\n",
        "# y tenerlos disponible como lista\n",
        "article_paragraphs = article_html.find_all('p')\n",
        "\n",
        "article_text = ''\n",
        "\n",
        "for para in article_paragraphs:\n",
        "    article_text += para.text + ' '\n",
        "\n",
        "# pasar todo el texto a minúscula\n",
        "article_text = article_text.lower()"
      ]
    },
    {
      "cell_type": "code",
      "execution_count": null,
      "metadata": {
        "id": "WBE0sSYuB-E6",
        "colab": {
          "base_uri": "https://localhost:8080/",
          "height": 105
        },
        "outputId": "d345b2e8-e5d2-46c9-a481-43d0114dc383"
      },
      "outputs": [
        {
          "output_type": "execute_result",
          "data": {
            "text/plain": [
              "' cuando gregorio samsa se despertó una mañana después de un sueño \\r\\nintranquilo, se encontró sobre su cama convertido en un monstruoso \\r\\ninsecto. estaba tumbado sobre su espalda dura, y en forma de caparazón \\r\\ny, al levantar un poco la cabeza veía un vientre abombado, parduzco, \\r\\ndividido por partes duras en forma de arco, sobre cuya protuberancia \\r\\napenas podía mantenerse el cobertor, a punto ya de resbalar al suelo. \\r\\nsus muchas patas, ridículamente pequeñas en comparación con el resto de \\r\\nsu tamaño, le vibraban desamparadas ante los ojos. «¿qué me ha ocurrido?», pensó. no era un sueño. su habitación, una auténtica habitación humana, si \\r\\nbien algo pequeña, permanecía tranquila entre las cuatro paredes harto \\r\\nconocidas. por encima de la mesa, sobre la que se encontraba extendido \\r\\nun muestrario de paños desempaquetados —samsa era viajante de comercio—,\\r\\n estaba colgado aquel cuadro que hacía poco había recortado de una \\r\\nrevista y había colocado en un bonito marco dorado. represent'"
            ],
            "application/vnd.google.colaboratory.intrinsic+json": {
              "type": "string"
            }
          },
          "metadata": {},
          "execution_count": 26
        }
      ],
      "source": [
        "# en article text se encuentra el texto de todo el libro\n",
        "article_text[:1000]"
      ]
    },
    {
      "cell_type": "markdown",
      "metadata": {
        "id": "cP1JdiOIKQWi"
      },
      "source": [
        "### Elegir el tamaño del contexto\n",
        "\n",
        "En este caso, como el modelo de lenguaje es por caracteres, todo un gran corpus\n",
        "de texto puede ser considerado un documento en sí mismo y el tamaño de contexto\n",
        "puede ser elegido con más libertad en comparación a un modelo de lenguaje tokenizado por palabras y dividido en documentos más acotados."
      ]
    },
    {
      "cell_type": "code",
      "execution_count": null,
      "metadata": {
        "id": "wumBNwdjJM3j"
      },
      "outputs": [],
      "source": [
        "# seleccionamos el tamaño de contexto\n",
        "max_context_size = 100"
      ]
    },
    {
      "cell_type": "code",
      "execution_count": null,
      "metadata": {
        "id": "m5FeTaGvbDbw"
      },
      "outputs": [],
      "source": [
        "# Usaremos las utilidades de procesamiento de textos y secuencias de Keras\n",
        "from tensorflow.keras.utils import pad_sequences # se utilizará para padding"
      ]
    },
    {
      "cell_type": "code",
      "execution_count": null,
      "metadata": {
        "id": "573Cg5n7VhWw"
      },
      "outputs": [],
      "source": [
        "# en este caso el vocabulario es el conjunto único de caracteres que existe en todo el texto\n",
        "chars_vocab = set(article_text)"
      ]
    },
    {
      "cell_type": "code",
      "execution_count": null,
      "metadata": {
        "id": "VwTK6xgLJd8q",
        "colab": {
          "base_uri": "https://localhost:8080/"
        },
        "outputId": "30dd7b96-6214-4501-a5bb-d5c8945dee09"
      },
      "outputs": [
        {
          "output_type": "execute_result",
          "data": {
            "text/plain": [
              "59"
            ]
          },
          "metadata": {},
          "execution_count": 30
        }
      ],
      "source": [
        "# la longitud de vocabulario de caracteres es:\n",
        "len(chars_vocab)"
      ]
    },
    {
      "cell_type": "code",
      "execution_count": null,
      "metadata": {
        "id": "2W0AeQjXV1Ou"
      },
      "outputs": [],
      "source": [
        "# Construimos los dicionarios que asignan índices a caracteres y viceversa.\n",
        "# El diccionario `char2idx` servirá como tokenizador.\n",
        "char2idx = {k: v for v,k in enumerate(chars_vocab)}\n",
        "idx2char = {v: k for k,v in char2idx.items()}"
      ]
    },
    {
      "cell_type": "markdown",
      "metadata": {
        "id": "2oIUjVU0LB0r"
      },
      "source": [
        "###  Tokenizar"
      ]
    },
    {
      "cell_type": "code",
      "execution_count": null,
      "metadata": {
        "id": "h07G3srdJppo"
      },
      "outputs": [],
      "source": [
        "# tokenizamos el texto completo\n",
        "tokenized_text = [char2idx[ch] for ch in article_text]"
      ]
    },
    {
      "cell_type": "code",
      "execution_count": null,
      "metadata": {
        "id": "PwGVSKOiJ5bj",
        "colab": {
          "base_uri": "https://localhost:8080/"
        },
        "outputId": "bf478b0e-a189-4974-c075-7ea1b86cacd0"
      },
      "outputs": [
        {
          "output_type": "execute_result",
          "data": {
            "text/plain": [
              "[34,\n",
              " 17,\n",
              " 7,\n",
              " 47,\n",
              " 20,\n",
              " 26,\n",
              " 23,\n",
              " 34,\n",
              " 27,\n",
              " 12,\n",
              " 51,\n",
              " 27,\n",
              " 23,\n",
              " 12,\n",
              " 33,\n",
              " 23,\n",
              " 34,\n",
              " 54,\n",
              " 47,\n",
              " 21,\n",
              " 54,\n",
              " 47,\n",
              " 34,\n",
              " 54,\n",
              " 51,\n",
              " 34,\n",
              " 26,\n",
              " 51,\n",
              " 54,\n",
              " 31,\n",
              " 51,\n",
              " 12,\n",
              " 32,\n",
              " 16,\n",
              " 34,\n",
              " 7,\n",
              " 20,\n",
              " 47,\n",
              " 34,\n",
              " 21,\n",
              " 47,\n",
              " 41,\n",
              " 47,\n",
              " 20,\n",
              " 47,\n",
              " 34,\n",
              " 26,\n",
              " 51,\n",
              " 54,\n",
              " 31,\n",
              " 7,\n",
              " 2,\n",
              " 54,\n",
              " 34,\n",
              " 26,\n",
              " 51,\n",
              " 34,\n",
              " 7,\n",
              " 20,\n",
              " 34,\n",
              " 54,\n",
              " 7,\n",
              " 51,\n",
              " 41,\n",
              " 23,\n",
              " 34,\n",
              " 11,\n",
              " 37,\n",
              " 33,\n",
              " 20,\n",
              " 32,\n",
              " 12,\n",
              " 47,\n",
              " 20,\n",
              " 22,\n",
              " 7,\n",
              " 33,\n",
              " 49,\n",
              " 23,\n",
              " 1,\n",
              " 34,\n",
              " 54,\n",
              " 51,\n",
              " 34,\n",
              " 51,\n",
              " 20,\n",
              " 17,\n",
              " 23,\n",
              " 20,\n",
              " 32,\n",
              " 12,\n",
              " 16,\n",
              " 34,\n",
              " 54,\n",
              " 23,\n",
              " 0,\n",
              " 12,\n",
              " 51,\n",
              " 34,\n",
              " 54,\n",
              " 7,\n",
              " 34,\n",
              " 17,\n",
              " 47,\n",
              " 21,\n",
              " 47,\n",
              " 34,\n",
              " 17,\n",
              " 23,\n",
              " 20,\n",
              " 28,\n",
              " 51,\n",
              " 12,\n",
              " 32,\n",
              " 33,\n",
              " 26,\n",
              " 23,\n",
              " 34,\n",
              " 51,\n",
              " 20,\n",
              " 34,\n",
              " 7,\n",
              " 20,\n",
              " 34,\n",
              " 21,\n",
              " 23,\n",
              " 20,\n",
              " 54,\n",
              " 32,\n",
              " 12,\n",
              " 7,\n",
              " 23,\n",
              " 54,\n",
              " 23,\n",
              " 34,\n",
              " 11,\n",
              " 37,\n",
              " 33,\n",
              " 20,\n",
              " 54,\n",
              " 51,\n",
              " 17,\n",
              " 32,\n",
              " 23,\n",
              " 5,\n",
              " 34,\n",
              " 51,\n",
              " 54,\n",
              " 32,\n",
              " 47,\n",
              " 0,\n",
              " 47,\n",
              " 34,\n",
              " 32,\n",
              " 7,\n",
              " 21,\n",
              " 0,\n",
              " 47,\n",
              " 26,\n",
              " 23,\n",
              " 34,\n",
              " 54,\n",
              " 23,\n",
              " 0,\n",
              " 12,\n",
              " 51,\n",
              " 34,\n",
              " 54,\n",
              " 7,\n",
              " 34,\n",
              " 51,\n",
              " 54,\n",
              " 31,\n",
              " 47,\n",
              " 49,\n",
              " 26,\n",
              " 47,\n",
              " 34,\n",
              " 26,\n",
              " 7,\n",
              " 12,\n",
              " 47,\n",
              " 1,\n",
              " 34,\n",
              " 38,\n",
              " 34,\n",
              " 51,\n",
              " 20,\n",
              " 34,\n",
              " 55,\n",
              " 23,\n",
              " 12,\n",
              " 21,\n",
              " 47,\n",
              " 34,\n",
              " 26,\n",
              " 51,\n",
              " 34,\n",
              " 17,\n",
              " 47,\n",
              " 31,\n",
              " 47,\n",
              " 12,\n",
              " 47,\n",
              " 24,\n",
              " 16,\n",
              " 20,\n",
              " 34,\n",
              " 11,\n",
              " 37,\n",
              " 38,\n",
              " 1,\n",
              " 34,\n",
              " 47,\n",
              " 49,\n",
              " 34,\n",
              " 49,\n",
              " 51,\n",
              " 28,\n",
              " 47,\n",
              " 20,\n",
              " 32,\n",
              " 47,\n",
              " 12,\n",
              " 34,\n",
              " 7,\n",
              " 20,\n",
              " 34,\n",
              " 31,\n",
              " 23,\n",
              " 17,\n",
              " 23,\n",
              " 34,\n",
              " 49,\n",
              " 47,\n",
              " 34,\n",
              " 17,\n",
              " 47,\n",
              " 0,\n",
              " 51,\n",
              " 24,\n",
              " 47,\n",
              " 34,\n",
              " 28,\n",
              " 51,\n",
              " 53,\n",
              " 47,\n",
              " 34,\n",
              " 7,\n",
              " 20,\n",
              " 34,\n",
              " 28,\n",
              " 33,\n",
              " 51,\n",
              " 20,\n",
              " 32,\n",
              " 12,\n",
              " 51,\n",
              " 34,\n",
              " 47,\n",
              " 0,\n",
              " 23,\n",
              " 21,\n",
              " 0,\n",
              " 47,\n",
              " 26,\n",
              " 23,\n",
              " 1,\n",
              " 34,\n",
              " 31,\n",
              " 47,\n",
              " 12,\n",
              " 26,\n",
              " 7,\n",
              " 24,\n",
              " 17,\n",
              " 23,\n",
              " 1,\n",
              " 34,\n",
              " 11,\n",
              " 37,\n",
              " 26,\n",
              " 33,\n",
              " 28,\n",
              " 33,\n",
              " 26,\n",
              " 33,\n",
              " 26,\n",
              " 23,\n",
              " 34,\n",
              " 31,\n",
              " 23,\n",
              " 12,\n",
              " 34,\n",
              " 31,\n",
              " 47,\n",
              " 12,\n",
              " 32,\n",
              " 51,\n",
              " 54,\n",
              " 34,\n",
              " 26,\n",
              " 7,\n",
              " 12,\n",
              " 47,\n",
              " 54,\n",
              " 34,\n",
              " 51,\n",
              " 20,\n",
              " 34,\n",
              " 55,\n",
              " 23,\n",
              " 12,\n",
              " 21,\n",
              " 47,\n",
              " 34,\n",
              " 26,\n",
              " 51,\n",
              " 34,\n",
              " 47,\n",
              " 12,\n",
              " 17,\n",
              " 23,\n",
              " 1,\n",
              " 34,\n",
              " 54,\n",
              " 23,\n",
              " 0,\n",
              " 12,\n",
              " 51,\n",
              " 34,\n",
              " 17,\n",
              " 7,\n",
              " 38,\n",
              " 47,\n",
              " 34,\n",
              " 31,\n",
              " 12,\n",
              " 23,\n",
              " 32,\n",
              " 7,\n",
              " 0,\n",
              " 51,\n",
              " 12,\n",
              " 47,\n",
              " 20,\n",
              " 17,\n",
              " 33,\n",
              " 47,\n",
              " 34,\n",
              " 11,\n",
              " 37,\n",
              " 47,\n",
              " 31,\n",
              " 51,\n",
              " 20,\n",
              " 47,\n",
              " 54,\n",
              " 34,\n",
              " 31,\n",
              " 23,\n",
              " 26,\n",
              " 53,\n",
              " 47,\n",
              " 34,\n",
              " 21,\n",
              " 47,\n",
              " 20,\n",
              " 32,\n",
              " 51,\n",
              " 20,\n",
              " 51,\n",
              " 12,\n",
              " 54,\n",
              " 51,\n",
              " 34,\n",
              " 51,\n",
              " 49,\n",
              " 34,\n",
              " 17,\n",
              " 23,\n",
              " 0,\n",
              " 51,\n",
              " 12,\n",
              " 32,\n",
              " 23,\n",
              " 12,\n",
              " 1,\n",
              " 34,\n",
              " 47,\n",
              " 34,\n",
              " 31,\n",
              " 7,\n",
              " 20,\n",
              " 32,\n",
              " 23,\n",
              " 34,\n",
              " 38,\n",
              " 47,\n",
              " 34,\n",
              " 26,\n",
              " 51,\n",
              " 34,\n",
              " 12,\n",
              " 51,\n",
              " 54,\n",
              " 0,\n",
              " 47,\n",
              " 49,\n",
              " 47,\n",
              " 12,\n",
              " 34,\n",
              " 47,\n",
              " 49,\n",
              " 34,\n",
              " 54,\n",
              " 7,\n",
              " 51,\n",
              " 49,\n",
              " 23,\n",
              " 5,\n",
              " 34,\n",
              " 11,\n",
              " 37,\n",
              " 54,\n",
              " 7,\n",
              " 54,\n",
              " 34,\n",
              " 21,\n",
              " 7,\n",
              " 17,\n",
              " 56,\n",
              " 47,\n",
              " 54,\n",
              " 34,\n",
              " 31,\n",
              " 47,\n",
              " 32,\n",
              " 47,\n",
              " 54,\n",
              " 1,\n",
              " 34,\n",
              " 12,\n",
              " 33,\n",
              " 26,\n",
              " 53,\n",
              " 17,\n",
              " 7,\n",
              " 49,\n",
              " 47,\n",
              " 21,\n",
              " 51,\n",
              " 20,\n",
              " 32,\n",
              " 51,\n",
              " 34,\n",
              " 31,\n",
              " 51,\n",
              " 22,\n",
              " 7,\n",
              " 51,\n",
              " 41,\n",
              " 47,\n",
              " 54,\n",
              " 34,\n",
              " 51,\n",
              " 20,\n",
              " 34,\n",
              " 17,\n",
              " 23,\n",
              " 21,\n",
              " 31,\n",
              " 47,\n",
              " 12,\n",
              " 47,\n",
              " 17,\n",
              " 33,\n",
              " 16,\n",
              " 20,\n",
              " 34,\n",
              " 17,\n",
              " 23,\n",
              " 20,\n",
              " 34,\n",
              " 51,\n",
              " 49,\n",
              " 34,\n",
              " 12,\n",
              " 51,\n",
              " 54,\n",
              " 32,\n",
              " 23,\n",
              " 34,\n",
              " 26,\n",
              " 51,\n",
              " 34,\n",
              " 11,\n",
              " 37,\n",
              " 54,\n",
              " 7,\n",
              " 34,\n",
              " 32,\n",
              " 47,\n",
              " 21,\n",
              " 47,\n",
              " 41,\n",
              " 23,\n",
              " 1,\n",
              " 34,\n",
              " 49,\n",
              " 51,\n",
              " 34,\n",
              " 28,\n",
              " 33,\n",
              " 0,\n",
              " 12,\n",
              " 47,\n",
              " 0,\n",
              " 47,\n",
              " 20,\n",
              " 34,\n",
              " 26,\n",
              " 51,\n",
              " 54,\n",
              " 47,\n",
              " 21,\n",
              " 31,\n",
              " 47,\n",
              " 12,\n",
              " 47,\n",
              " 26,\n",
              " 47,\n",
              " 54,\n",
              " 34,\n",
              " 47,\n",
              " 20,\n",
              " 32,\n",
              " 51,\n",
              " 34,\n",
              " 49,\n",
              " 23,\n",
              " 54,\n",
              " 34,\n",
              " 23,\n",
              " 40,\n",
              " 23,\n",
              " 54,\n",
              " 5,\n",
              " 34,\n",
              " 13,\n",
              " 42,\n",
              " 22,\n",
              " 7,\n",
              " 2,\n",
              " 34,\n",
              " 21,\n",
              " 51,\n",
              " 34,\n",
              " 56,\n",
              " 47,\n",
              " 34,\n",
              " 23,\n",
              " 17,\n",
              " 7,\n",
              " 12,\n",
              " 12,\n",
              " 33,\n",
              " 26,\n",
              " 23,\n",
              " 50,\n",
              " 25,\n",
              " 1,\n",
              " 34,\n",
              " 31,\n",
              " 51,\n",
              " 20,\n",
              " 54,\n",
              " 16,\n",
              " 5,\n",
              " 34,\n",
              " 20,\n",
              " 23,\n",
              " 34,\n",
              " 51,\n",
              " 12,\n",
              " 47,\n",
              " 34,\n",
              " 7,\n",
              " 20,\n",
              " 34,\n",
              " 54,\n",
              " 7,\n",
              " 51,\n",
              " 41,\n",
              " 23,\n",
              " 5,\n",
              " 34,\n",
              " 54,\n",
              " 7,\n",
              " 34,\n",
              " 56,\n",
              " 47,\n",
              " 0,\n",
              " 33,\n",
              " 32,\n",
              " 47,\n",
              " 17,\n",
              " 33,\n",
              " 16,\n",
              " 20,\n",
              " 1,\n",
              " 34,\n",
              " 7,\n",
              " 20,\n",
              " 47,\n",
              " 34,\n",
              " 47,\n",
              " 7,\n",
              " 32,\n",
              " 2,\n",
              " 20,\n",
              " 32,\n",
              " 33,\n",
              " 17,\n",
              " 47,\n",
              " 34,\n",
              " 56,\n",
              " 47,\n",
              " 0,\n",
              " 33,\n",
              " 32,\n",
              " 47,\n",
              " 17,\n",
              " 33,\n",
              " 16,\n",
              " 20,\n",
              " 34,\n",
              " 56,\n",
              " 7,\n",
              " 21,\n",
              " 47,\n",
              " 20,\n",
              " 47,\n",
              " 1,\n",
              " 34,\n",
              " 54,\n",
              " 33,\n",
              " 34,\n",
              " 11,\n",
              " 37,\n",
              " 0,\n",
              " 33,\n",
              " 51,\n",
              " 20,\n",
              " 34,\n",
              " 47,\n",
              " 49,\n",
              " 27,\n",
              " 23,\n",
              " 34,\n",
              " 31,\n",
              " 51,\n",
              " 22,\n",
              " 7,\n",
              " 51,\n",
              " 41,\n",
              " 47,\n",
              " 1,\n",
              " 34,\n",
              " 31,\n",
              " 51,\n",
              " 12,\n",
              " 21,\n",
              " 47,\n",
              " 20,\n",
              " 51,\n",
              " 17,\n",
              " 53,\n",
              " 47,\n",
              " 34,\n",
              " 32,\n",
              " 12,\n",
              " 47,\n",
              " 20,\n",
              " 22,\n",
              " 7,\n",
              " 33,\n",
              " 49,\n",
              " 47,\n",
              " 34,\n",
              " 51,\n",
              " 20,\n",
              " 32,\n",
              " 12,\n",
              " 51,\n",
              " 34,\n",
              " 49,\n",
              " 47,\n",
              " 54,\n",
              " 34,\n",
              " 17,\n",
              " 7,\n",
              " 47,\n",
              " 32,\n",
              " 12,\n",
              " 23,\n",
              " 34,\n",
              " 31,\n",
              " 47,\n",
              " 12,\n",
              " 51,\n",
              " 26,\n",
              " 51,\n",
              " 54,\n",
              " 34,\n",
              " 56,\n",
              " 47,\n",
              " 12,\n",
              " 32,\n",
              " 23,\n",
              " 34,\n",
              " 11,\n",
              " 37,\n",
              " 17,\n",
              " 23,\n",
              " 20,\n",
              " 23,\n",
              " 17,\n",
              " 33,\n",
              " 26,\n",
              " 47,\n",
              " 54,\n",
              " 5,\n",
              " 34,\n",
              " 31,\n",
              " 23,\n",
              " 12,\n",
              " 34,\n",
              " 51,\n",
              " 20,\n",
              " 17,\n",
              " 33,\n",
              " 21,\n",
              " 47,\n",
              " 34,\n",
              " 26,\n",
              " 51,\n",
              " 34,\n",
              " 49,\n",
              " 47,\n",
              " 34,\n",
              " 21,\n",
              " 51,\n",
              " 54,\n",
              " 47,\n",
              " 1,\n",
              " 34,\n",
              " 54,\n",
              " 23,\n",
              " 0,\n",
              " 12,\n",
              " 51,\n",
              " 34,\n",
              " 49,\n",
              " 47,\n",
              " 34,\n",
              " 22,\n",
              " 7,\n",
              " 51,\n",
              " 34,\n",
              " 54,\n",
              " 51,\n",
              " 34,\n",
              " 51,\n",
              " 20,\n",
              " 17,\n",
              " 23,\n",
              " 20,\n",
              " 32,\n",
              " 12,\n",
              " 47,\n",
              " 0,\n",
              " 47,\n",
              " 34,\n",
              " 51,\n",
              " 36,\n",
              " 32,\n",
              " 51,\n",
              " 20,\n",
              " 26,\n",
              " 33,\n",
              " 26,\n",
              " 23,\n",
              " 34,\n",
              " 11,\n",
              " 37,\n",
              " 7,\n",
              " 20,\n",
              " 34,\n",
              " 21,\n",
              " 7,\n",
              " 51,\n",
              " 54,\n",
              " 32,\n",
              " 12,\n",
              " 47,\n",
              " 12,\n",
              " 33,\n",
              " 23,\n",
              " 34,\n",
              " 26,\n",
              " 51,\n",
              " 34,\n",
              " 31,\n",
              " 47,\n",
              " 41,\n",
              " 23,\n",
              " 54,\n",
              " 34,\n",
              " 26,\n",
              " 51,\n",
              " 54,\n",
              " 51,\n",
              " 21,\n",
              " 31,\n",
              " 47,\n",
              " 22,\n",
              " 7,\n",
              " 51,\n",
              " 32,\n",
              " 47,\n",
              " 26,\n",
              " 23,\n",
              " 54,\n",
              " 34,\n",
              " 48,\n",
              " 54,\n",
              " 47,\n",
              " 21,\n",
              " 54,\n",
              " 47,\n",
              " 34,\n",
              " 51,\n",
              " 12,\n",
              " 47,\n",
              " 34,\n",
              " 28,\n",
              " 33,\n",
              " 47,\n",
              " 40,\n",
              " 47,\n",
              " 20,\n",
              " 32,\n",
              " 51,\n",
              " 34,\n",
              " 26,\n",
              " 51,\n",
              " 34,\n",
              " 17,\n",
              " 23,\n",
              " 21,\n",
              " 51,\n",
              " 12,\n",
              " 17,\n",
              " 33,\n",
              " 23,\n",
              " 48,\n",
              " 1,\n",
              " 11,\n",
              " 37,\n",
              " 34,\n",
              " 51,\n",
              " 54,\n",
              " 32,\n",
              " 47,\n",
              " 0,\n",
              " 47,\n",
              " 34,\n",
              " 17,\n",
              " 23,\n",
              " 49,\n",
              " 27,\n",
              " 47,\n",
              " 26,\n",
              " 23,\n",
              " 34,\n",
              " 47,\n",
              " 22,\n",
              " 7,\n",
              " 51,\n",
              " 49,\n",
              " 34,\n",
              " 17,\n",
              " 7,\n",
              " 47,\n",
              " 26,\n",
              " 12,\n",
              " 23,\n",
              " 34,\n",
              " 22,\n",
              " 7,\n",
              " 51,\n",
              " 34,\n",
              " 56,\n",
              " 47,\n",
              " 17,\n",
              " 53,\n",
              " 47,\n",
              " 34,\n",
              " 31,\n",
              " 23,\n",
              " 17,\n",
              " 23,\n",
              " 34,\n",
              " 56,\n",
              " 47,\n",
              " 0,\n",
              " 53,\n",
              " 47,\n",
              " 34,\n",
              " 12,\n",
              " 51,\n",
              " 17,\n",
              " 23,\n",
              " 12,\n",
              " 32,\n",
              " 47,\n",
              " 26,\n",
              " 23,\n",
              " 34,\n",
              " 26,\n",
              " 51,\n",
              " 34,\n",
              " 7,\n",
              " 20,\n",
              " 47,\n",
              " 34,\n",
              " 11,\n",
              " 37,\n",
              " 12,\n",
              " 51,\n",
              " 28,\n",
              " 33,\n",
              " 54,\n",
              " 32,\n",
              " 47,\n",
              " 34,\n",
              " 38,\n",
              " 34,\n",
              " 56,\n",
              " 47,\n",
              " 0,\n",
              " 53,\n",
              " 47,\n",
              " 34,\n",
              " 17,\n",
              " 23,\n",
              " 49,\n",
              " 23,\n",
              " 17,\n",
              " 47,\n",
              " 26,\n",
              " 23,\n",
              " 34,\n",
              " 51,\n",
              " 20,\n",
              " 34,\n",
              " 7,\n",
              " 20,\n",
              " 34,\n",
              " 0,\n",
              " 23,\n",
              " 20,\n",
              " 33,\n",
              " 32,\n",
              " 23,\n",
              " 34,\n",
              " 21,\n",
              " 47,\n",
              " 12,\n",
              " 17,\n",
              " 23,\n",
              " 34,\n",
              " 26,\n",
              " 23,\n",
              " 12,\n",
              " 47,\n",
              " 26,\n",
              " 23,\n",
              " 5,\n",
              " 34,\n",
              " 12,\n",
              " 51,\n",
              " 31,\n",
              " 12,\n",
              " 51,\n",
              " 54,\n",
              " 51,\n",
              " 20,\n",
              " 32]"
            ]
          },
          "metadata": {},
          "execution_count": 33
        }
      ],
      "source": [
        "tokenized_text[:1000]"
      ]
    },
    {
      "cell_type": "markdown",
      "metadata": {
        "id": "pfpYcaypKcI9"
      },
      "source": [
        "### Organizando y estructurando el dataset"
      ]
    },
    {
      "cell_type": "code",
      "execution_count": null,
      "metadata": {
        "id": "WSSmg9jtKP0T"
      },
      "outputs": [],
      "source": [
        "# separaremos el dataset entre entrenamiento y validación.\n",
        "# `p_val` será la proporción del corpus que se reservará para validación\n",
        "# `num_val` es la cantidad de secuencias de tamaño `max_context_size` que se usará en validación\n",
        "p_val = 0.1\n",
        "num_val = int(np.ceil(len(tokenized_text)*p_val/max_context_size))"
      ]
    },
    {
      "cell_type": "code",
      "execution_count": null,
      "metadata": {
        "id": "b7dCpGrdKll0"
      },
      "outputs": [],
      "source": [
        "# separamos la porción de texto utilizada en entrenamiento de la de validación.\n",
        "train_text = tokenized_text[:-num_val*max_context_size]\n",
        "val_text = tokenized_text[-num_val*max_context_size:]"
      ]
    },
    {
      "cell_type": "code",
      "execution_count": null,
      "metadata": {
        "id": "NmxQdxl8LRCg"
      },
      "outputs": [],
      "source": [
        "tokenized_sentences_val = [val_text[init*max_context_size:init*(max_context_size+1)] for init in range(num_val)]"
      ]
    },
    {
      "cell_type": "code",
      "execution_count": null,
      "metadata": {
        "id": "_gyFT9koLqDm"
      },
      "outputs": [],
      "source": [
        "tokenized_sentences_train = [train_text[init:init+max_context_size] for init in range(len(train_text)-max_context_size+1)]"
      ]
    },
    {
      "cell_type": "code",
      "execution_count": null,
      "metadata": {
        "id": "oVNqmmLRodT0"
      },
      "outputs": [],
      "source": [
        "X = np.array(tokenized_sentences_train[:-1])\n",
        "y = np.array(tokenized_sentences_train[1:])"
      ]
    },
    {
      "cell_type": "markdown",
      "metadata": {
        "id": "Vken7O4ETsAJ"
      },
      "source": [
        "Nótese que estamos estructurando el problema de aprendizaje como *many-to-many*:\n",
        "\n",
        "Entrada: secuencia de tokens [$x_0$, $x_1$, ..., $x_N$]\n",
        "\n",
        "Target: secuencia de tokens [$x_1$, $x_2$, ..., $x_{N+1}$]\n",
        "\n",
        "De manera que la red tiene que aprender que su salida deben ser los tokens desplazados en una posición y un nuevo token predicho (el N+1).\n",
        "\n",
        "La ventaja de estructurar el aprendizaje de esta manera es que para cada token de target se propaga una señal de gradiente por el grafo de cómputo recurrente, que es mejor que estructurar el problema como *many-to-one* en donde sólo una señal de gradiente se propaga."
      ]
    },
    {
      "cell_type": "markdown",
      "metadata": {
        "id": "l3iPTx-UJl6r"
      },
      "source": [
        "En este punto tenemos en la variable `tokenized_sentences` los versos tokenizados. Vamos a quedarnos con un conjunto de validación que utilizaremos para medir la calidad de la generación de secuencias con la métrica de Perplejidad."
      ]
    },
    {
      "cell_type": "code",
      "execution_count": null,
      "metadata": {
        "id": "KFAyA4zCWE-5",
        "colab": {
          "base_uri": "https://localhost:8080/"
        },
        "outputId": "09c5b845-cf1a-44f4-e3df-a1dff6418f9c"
      },
      "outputs": [
        {
          "output_type": "execute_result",
          "data": {
            "text/plain": [
              "(112059, 100)"
            ]
          },
          "metadata": {},
          "execution_count": 39
        }
      ],
      "source": [
        "X.shape"
      ]
    },
    {
      "cell_type": "code",
      "execution_count": null,
      "metadata": {
        "id": "qcKRl70HFTzG",
        "colab": {
          "base_uri": "https://localhost:8080/"
        },
        "outputId": "5b3d4463-c962-4bf0-bfff-8c38898697cd"
      },
      "outputs": [
        {
          "output_type": "execute_result",
          "data": {
            "text/plain": [
              "array([34, 17,  7, 47, 20, 26, 23, 34, 27, 12])"
            ]
          },
          "metadata": {},
          "execution_count": 40
        }
      ],
      "source": [
        "X[0,:10]"
      ]
    },
    {
      "cell_type": "code",
      "execution_count": null,
      "metadata": {
        "id": "TVpLCKSZFXZO",
        "colab": {
          "base_uri": "https://localhost:8080/"
        },
        "outputId": "d58bde99-794e-4a54-aacc-81f47a3b4cf3"
      },
      "outputs": [
        {
          "output_type": "execute_result",
          "data": {
            "text/plain": [
              "array([17,  7, 47, 20, 26, 23, 34, 27, 12, 51])"
            ]
          },
          "metadata": {},
          "execution_count": 41
        }
      ],
      "source": [
        "y[0,:10]"
      ]
    },
    {
      "cell_type": "code",
      "execution_count": null,
      "metadata": {
        "id": "wOFCR-KqbW1N"
      },
      "outputs": [],
      "source": [
        "vocab_size = len(chars_vocab)"
      ]
    },
    {
      "cell_type": "markdown",
      "metadata": {
        "id": "tnnjdAQ5UAEJ"
      },
      "source": [
        "# Definiendo el modelo"
      ]
    },
    {
      "cell_type": "code",
      "execution_count": null,
      "metadata": {
        "id": "rkMCZvmhrQz4"
      },
      "outputs": [],
      "source": [
        "from keras.layers import Input, TimeDistributed, CategoryEncoding, SimpleRNN, Dense\n",
        "from keras.models import Model, Sequential"
      ]
    },
    {
      "cell_type": "markdown",
      "metadata": {
        "id": "wgz7VKwTUbj6"
      },
      "source": [
        "El modelo que se propone como ejemplo consume los índices de los tokens y los transforma en vectores OHE (en este caso no entrenamos una capa de embedding para caracteres). Esa transformación se logra combinando las capas `CategoryEncoding` que transforma a índices a vectores OHE y `TimeDistributed` que aplica la capa a lo largo de la dimensión \"temporal\" de la secuencia."
      ]
    },
    {
      "cell_type": "code",
      "execution_count": null,
      "metadata": {
        "id": "Zd2OkfQYs2Q7",
        "colab": {
          "base_uri": "https://localhost:8080/",
          "height": 225
        },
        "outputId": "8d5ae54e-0e4a-46c1-fcb7-bea5ba2857f0"
      },
      "outputs": [
        {
          "output_type": "display_data",
          "data": {
            "text/plain": [
              "\u001b[1mModel: \"sequential_1\"\u001b[0m\n"
            ],
            "text/html": [
              "<pre style=\"white-space:pre;overflow-x:auto;line-height:normal;font-family:Menlo,'DejaVu Sans Mono',consolas,'Courier New',monospace\"><span style=\"font-weight: bold\">Model: \"sequential_1\"</span>\n",
              "</pre>\n"
            ]
          },
          "metadata": {}
        },
        {
          "output_type": "display_data",
          "data": {
            "text/plain": [
              "┏━━━━━━━━━━━━━━━━━━━━━━━━━━━━━━━━━━━━━━┳━━━━━━━━━━━━━━━━━━━━━━━━━━━━━┳━━━━━━━━━━━━━━━━━┓\n",
              "┃\u001b[1m \u001b[0m\u001b[1mLayer (type)                        \u001b[0m\u001b[1m \u001b[0m┃\u001b[1m \u001b[0m\u001b[1mOutput Shape               \u001b[0m\u001b[1m \u001b[0m┃\u001b[1m \u001b[0m\u001b[1m        Param #\u001b[0m\u001b[1m \u001b[0m┃\n",
              "┡━━━━━━━━━━━━━━━━━━━━━━━━━━━━━━━━━━━━━━╇━━━━━━━━━━━━━━━━━━━━━━━━━━━━━╇━━━━━━━━━━━━━━━━━┩\n",
              "│ time_distributed_1 (\u001b[38;5;33mTimeDistributed\u001b[0m) │ (\u001b[38;5;45mNone\u001b[0m, \u001b[38;5;45mNone\u001b[0m, \u001b[38;5;34m59\u001b[0m)            │               \u001b[38;5;34m0\u001b[0m │\n",
              "├──────────────────────────────────────┼─────────────────────────────┼─────────────────┤\n",
              "│ simple_rnn_1 (\u001b[38;5;33mSimpleRNN\u001b[0m)             │ (\u001b[38;5;45mNone\u001b[0m, \u001b[38;5;45mNone\u001b[0m, \u001b[38;5;34m200\u001b[0m)           │          \u001b[38;5;34m52,000\u001b[0m │\n",
              "├──────────────────────────────────────┼─────────────────────────────┼─────────────────┤\n",
              "│ dense_1 (\u001b[38;5;33mDense\u001b[0m)                      │ (\u001b[38;5;45mNone\u001b[0m, \u001b[38;5;45mNone\u001b[0m, \u001b[38;5;34m59\u001b[0m)            │          \u001b[38;5;34m11,859\u001b[0m │\n",
              "└──────────────────────────────────────┴─────────────────────────────┴─────────────────┘\n"
            ],
            "text/html": [
              "<pre style=\"white-space:pre;overflow-x:auto;line-height:normal;font-family:Menlo,'DejaVu Sans Mono',consolas,'Courier New',monospace\">┏━━━━━━━━━━━━━━━━━━━━━━━━━━━━━━━━━━━━━━┳━━━━━━━━━━━━━━━━━━━━━━━━━━━━━┳━━━━━━━━━━━━━━━━━┓\n",
              "┃<span style=\"font-weight: bold\"> Layer (type)                         </span>┃<span style=\"font-weight: bold\"> Output Shape                </span>┃<span style=\"font-weight: bold\">         Param # </span>┃\n",
              "┡━━━━━━━━━━━━━━━━━━━━━━━━━━━━━━━━━━━━━━╇━━━━━━━━━━━━━━━━━━━━━━━━━━━━━╇━━━━━━━━━━━━━━━━━┩\n",
              "│ time_distributed_1 (<span style=\"color: #0087ff; text-decoration-color: #0087ff\">TimeDistributed</span>) │ (<span style=\"color: #00d7ff; text-decoration-color: #00d7ff\">None</span>, <span style=\"color: #00d7ff; text-decoration-color: #00d7ff\">None</span>, <span style=\"color: #00af00; text-decoration-color: #00af00\">59</span>)            │               <span style=\"color: #00af00; text-decoration-color: #00af00\">0</span> │\n",
              "├──────────────────────────────────────┼─────────────────────────────┼─────────────────┤\n",
              "│ simple_rnn_1 (<span style=\"color: #0087ff; text-decoration-color: #0087ff\">SimpleRNN</span>)             │ (<span style=\"color: #00d7ff; text-decoration-color: #00d7ff\">None</span>, <span style=\"color: #00d7ff; text-decoration-color: #00d7ff\">None</span>, <span style=\"color: #00af00; text-decoration-color: #00af00\">200</span>)           │          <span style=\"color: #00af00; text-decoration-color: #00af00\">52,000</span> │\n",
              "├──────────────────────────────────────┼─────────────────────────────┼─────────────────┤\n",
              "│ dense_1 (<span style=\"color: #0087ff; text-decoration-color: #0087ff\">Dense</span>)                      │ (<span style=\"color: #00d7ff; text-decoration-color: #00d7ff\">None</span>, <span style=\"color: #00d7ff; text-decoration-color: #00d7ff\">None</span>, <span style=\"color: #00af00; text-decoration-color: #00af00\">59</span>)            │          <span style=\"color: #00af00; text-decoration-color: #00af00\">11,859</span> │\n",
              "└──────────────────────────────────────┴─────────────────────────────┴─────────────────┘\n",
              "</pre>\n"
            ]
          },
          "metadata": {}
        },
        {
          "output_type": "display_data",
          "data": {
            "text/plain": [
              "\u001b[1m Total params: \u001b[0m\u001b[38;5;34m63,859\u001b[0m (249.45 KB)\n"
            ],
            "text/html": [
              "<pre style=\"white-space:pre;overflow-x:auto;line-height:normal;font-family:Menlo,'DejaVu Sans Mono',consolas,'Courier New',monospace\"><span style=\"font-weight: bold\"> Total params: </span><span style=\"color: #00af00; text-decoration-color: #00af00\">63,859</span> (249.45 KB)\n",
              "</pre>\n"
            ]
          },
          "metadata": {}
        },
        {
          "output_type": "display_data",
          "data": {
            "text/plain": [
              "\u001b[1m Trainable params: \u001b[0m\u001b[38;5;34m63,859\u001b[0m (249.45 KB)\n"
            ],
            "text/html": [
              "<pre style=\"white-space:pre;overflow-x:auto;line-height:normal;font-family:Menlo,'DejaVu Sans Mono',consolas,'Courier New',monospace\"><span style=\"font-weight: bold\"> Trainable params: </span><span style=\"color: #00af00; text-decoration-color: #00af00\">63,859</span> (249.45 KB)\n",
              "</pre>\n"
            ]
          },
          "metadata": {}
        },
        {
          "output_type": "display_data",
          "data": {
            "text/plain": [
              "\u001b[1m Non-trainable params: \u001b[0m\u001b[38;5;34m0\u001b[0m (0.00 B)\n"
            ],
            "text/html": [
              "<pre style=\"white-space:pre;overflow-x:auto;line-height:normal;font-family:Menlo,'DejaVu Sans Mono',consolas,'Courier New',monospace\"><span style=\"font-weight: bold\"> Non-trainable params: </span><span style=\"color: #00af00; text-decoration-color: #00af00\">0</span> (0.00 B)\n",
              "</pre>\n"
            ]
          },
          "metadata": {}
        }
      ],
      "source": [
        "model = Sequential()\n",
        "\n",
        "model.add(TimeDistributed(CategoryEncoding(num_tokens=vocab_size, output_mode = \"one_hot\"),input_shape=(None,1)))\n",
        "model.add(SimpleRNN(200, return_sequences=True, dropout=0.1, recurrent_dropout=0.1 ))\n",
        "model.add(Dense(vocab_size, activation='softmax'))\n",
        "model.compile(loss='sparse_categorical_crossentropy', optimizer='rmsprop')\n",
        "\n",
        "model.summary()"
      ]
    },
    {
      "cell_type": "markdown",
      "metadata": {
        "id": "GmJWNyxQwfCE"
      },
      "source": [
        "\n",
        "### Definir el modelo"
      ]
    },
    {
      "cell_type": "markdown",
      "metadata": {
        "id": "YWK3z85sQfUe"
      },
      "source": [
        "Dado que por el momento no hay implementaciones adecuadas de la perplejidad que puedan operar en tiempo de entrenamiento, armaremos un Callback *ad-hoc* que la calcule en cada epoch.\n",
        "\n",
        "**Nota**: un Callback es una rutina gatillada por algún evento, son muy útiles para relevar datos en diferentes momentos del desarrollo del modelo. En este caso queremos hacer un cálculo cada vez que termina una epoch de entrenamiento."
      ]
    },
    {
      "cell_type": "code",
      "execution_count": null,
      "metadata": {
        "id": "zUHX3r5JD-MG"
      },
      "outputs": [],
      "source": [
        "class PplCallback(keras.callbacks.Callback):\n",
        "\n",
        "    '''\n",
        "    Este callback es una solución ad-hoc para calcular al final de cada epoch de\n",
        "    entrenamiento la métrica de Perplejidad sobre un conjunto de datos de validación.\n",
        "    La perplejidad es una métrica cuantitativa para evaluar la calidad de la generación de secuencias.\n",
        "    Además implementa la finalización del entrenamiento (Early Stopping)\n",
        "    si la perplejidad no mejora después de `patience` epochs.\n",
        "    '''\n",
        "\n",
        "    def __init__(self, val_data, history_ppl,patience=5):\n",
        "      # El callback lo inicializamos con secuencias de validación sobre las cuales\n",
        "      # mediremos la perplejidad\n",
        "      self.val_data = val_data\n",
        "\n",
        "      self.target = []\n",
        "      self.padded = []\n",
        "\n",
        "      count = 0\n",
        "      self.info = []\n",
        "      self.min_score = np.inf\n",
        "      self.patience_counter = 0\n",
        "      self.patience = patience\n",
        "\n",
        "      # nos movemos en todas las secuencias de los datos de validación\n",
        "      for seq in self.val_data:\n",
        "\n",
        "        len_seq = len(seq)\n",
        "        # armamos todas las subsecuencias\n",
        "        subseq = [seq[:i] for i in range(1,len_seq)]\n",
        "        self.target.extend([seq[i] for i in range(1,len_seq)])\n",
        "\n",
        "        if len(subseq)!=0:\n",
        "\n",
        "          self.padded.append(pad_sequences(subseq, maxlen=max_context_size, padding='pre'))\n",
        "\n",
        "          self.info.append((count,count+len_seq))\n",
        "          count += len_seq\n",
        "\n",
        "      self.padded = np.vstack(self.padded)\n",
        "\n",
        "\n",
        "    def on_epoch_end(self, epoch, logs=None):\n",
        "\n",
        "        # en `scores` iremos guardando la perplejidad de cada secuencia\n",
        "        scores = []\n",
        "\n",
        "        predictions = self.model.predict(self.padded,verbose=0)\n",
        "\n",
        "        # para cada secuencia de validación\n",
        "        for start,end in self.info:\n",
        "\n",
        "          # en `probs` iremos guardando las probabilidades de los términos target\n",
        "          probs = [predictions[idx_seq,-1,idx_vocab] for idx_seq, idx_vocab in zip(range(start,end),self.target[start:end])]\n",
        "\n",
        "          # calculamos la perplejidad por medio de logaritmos\n",
        "          scores.append(np.exp(-np.sum(np.log(probs))/(end-start)))\n",
        "\n",
        "        # promediamos todos los scores e imprimimos el valor promedio\n",
        "        current_score = np.mean(scores)\n",
        "        history_ppl.append(current_score)\n",
        "        print(f'\\n mean perplexity: {current_score} \\n')\n",
        "\n",
        "        # chequeamos si tenemos que detener el entrenamiento\n",
        "        if current_score < self.min_score:\n",
        "          self.min_score = current_score\n",
        "          self.model.save(\"my_model.keras\")\n",
        "          print(\"Saved new model!\")\n",
        "          self.patience_counter = 0\n",
        "        else:\n",
        "          self.patience_counter += 1\n",
        "          if self.patience_counter == self.patience:\n",
        "            print(\"Stopping training...\")\n",
        "            self.model.stop_training = True\n"
      ]
    },
    {
      "cell_type": "markdown",
      "metadata": {
        "id": "8HBZIwR0gruA"
      },
      "source": [
        "### Entrenamiento"
      ]
    },
    {
      "cell_type": "code",
      "execution_count": null,
      "metadata": {
        "id": "oQq1PHDkxDvN",
        "colab": {
          "base_uri": "https://localhost:8080/"
        },
        "outputId": "1bfa9b93-7451-47cd-da3b-80d3b3fc9f7a"
      },
      "outputs": [
        {
          "output_type": "stream",
          "name": "stdout",
          "text": [
            "Epoch 1/20\n",
            "\u001b[1m438/438\u001b[0m \u001b[32m━━━━━━━━━━━━━━━━━━━━\u001b[0m\u001b[37m\u001b[0m \u001b[1m0s\u001b[0m 23ms/step - loss: 2.6321\n",
            " mean perplexity: 8.500308973313063 \n",
            "\n",
            "Saved new model!\n",
            "\u001b[1m438/438\u001b[0m \u001b[32m━━━━━━━━━━━━━━━━━━━━\u001b[0m\u001b[37m\u001b[0m \u001b[1m27s\u001b[0m 46ms/step - loss: 2.6314\n",
            "Epoch 2/20\n",
            "\u001b[1m437/438\u001b[0m \u001b[32m━━━━━━━━━━━━━━━━━━━\u001b[0m\u001b[37m━\u001b[0m \u001b[1m0s\u001b[0m 16ms/step - loss: 2.0115\n",
            " mean perplexity: 7.426596616653744 \n",
            "\n",
            "Saved new model!\n",
            "\u001b[1m438/438\u001b[0m \u001b[32m━━━━━━━━━━━━━━━━━━━━\u001b[0m\u001b[37m\u001b[0m \u001b[1m27s\u001b[0m 22ms/step - loss: 2.0113\n",
            "Epoch 3/20\n",
            "\u001b[1m438/438\u001b[0m \u001b[32m━━━━━━━━━━━━━━━━━━━━\u001b[0m\u001b[37m\u001b[0m \u001b[1m0s\u001b[0m 16ms/step - loss: 1.8639\n",
            " mean perplexity: 6.975882434623074 \n",
            "\n",
            "Saved new model!\n",
            "\u001b[1m438/438\u001b[0m \u001b[32m━━━━━━━━━━━━━━━━━━━━\u001b[0m\u001b[37m\u001b[0m \u001b[1m10s\u001b[0m 22ms/step - loss: 1.8638\n",
            "Epoch 4/20\n",
            "\u001b[1m437/438\u001b[0m \u001b[32m━━━━━━━━━━━━━━━━━━━\u001b[0m\u001b[37m━\u001b[0m \u001b[1m0s\u001b[0m 16ms/step - loss: 1.7638\n",
            " mean perplexity: 6.717264232364466 \n",
            "\n",
            "Saved new model!\n",
            "\u001b[1m438/438\u001b[0m \u001b[32m━━━━━━━━━━━━━━━━━━━━\u001b[0m\u001b[37m\u001b[0m \u001b[1m10s\u001b[0m 22ms/step - loss: 1.7637\n",
            "Epoch 5/20\n",
            "\u001b[1m438/438\u001b[0m \u001b[32m━━━━━━━━━━━━━━━━━━━━\u001b[0m\u001b[37m\u001b[0m \u001b[1m0s\u001b[0m 15ms/step - loss: 1.6973\n",
            " mean perplexity: 6.4882736133522805 \n",
            "\n",
            "Saved new model!\n",
            "\u001b[1m438/438\u001b[0m \u001b[32m━━━━━━━━━━━━━━━━━━━━\u001b[0m\u001b[37m\u001b[0m \u001b[1m8s\u001b[0m 19ms/step - loss: 1.6972\n",
            "Epoch 6/20\n",
            "\u001b[1m438/438\u001b[0m \u001b[32m━━━━━━━━━━━━━━━━━━━━\u001b[0m\u001b[37m\u001b[0m \u001b[1m0s\u001b[0m 16ms/step - loss: 1.6512\n",
            " mean perplexity: 6.379641640673783 \n",
            "\n",
            "Saved new model!\n",
            "\u001b[1m438/438\u001b[0m \u001b[32m━━━━━━━━━━━━━━━━━━━━\u001b[0m\u001b[37m\u001b[0m \u001b[1m12s\u001b[0m 22ms/step - loss: 1.6512\n",
            "Epoch 7/20\n",
            "\u001b[1m435/438\u001b[0m \u001b[32m━━━━━━━━━━━━━━━━━━━\u001b[0m\u001b[37m━\u001b[0m \u001b[1m0s\u001b[0m 16ms/step - loss: 1.6174\n",
            " mean perplexity: 6.362744558531944 \n",
            "\n",
            "Saved new model!\n",
            "\u001b[1m438/438\u001b[0m \u001b[32m━━━━━━━━━━━━━━━━━━━━\u001b[0m\u001b[37m\u001b[0m \u001b[1m8s\u001b[0m 19ms/step - loss: 1.6173\n",
            "Epoch 8/20\n",
            "\u001b[1m438/438\u001b[0m \u001b[32m━━━━━━━━━━━━━━━━━━━━\u001b[0m\u001b[37m\u001b[0m \u001b[1m0s\u001b[0m 15ms/step - loss: 1.5931\n",
            " mean perplexity: 6.317768424064568 \n",
            "\n",
            "Saved new model!\n",
            "\u001b[1m438/438\u001b[0m \u001b[32m━━━━━━━━━━━━━━━━━━━━\u001b[0m\u001b[37m\u001b[0m \u001b[1m8s\u001b[0m 19ms/step - loss: 1.5931\n",
            "Epoch 9/20\n",
            "\u001b[1m438/438\u001b[0m \u001b[32m━━━━━━━━━━━━━━━━━━━━\u001b[0m\u001b[37m\u001b[0m \u001b[1m0s\u001b[0m 15ms/step - loss: 1.5728\n",
            " mean perplexity: 6.245061214565034 \n",
            "\n",
            "Saved new model!\n",
            "\u001b[1m438/438\u001b[0m \u001b[32m━━━━━━━━━━━━━━━━━━━━\u001b[0m\u001b[37m\u001b[0m \u001b[1m11s\u001b[0m 21ms/step - loss: 1.5728\n",
            "Epoch 10/20\n",
            "\u001b[1m436/438\u001b[0m \u001b[32m━━━━━━━━━━━━━━━━━━━\u001b[0m\u001b[37m━\u001b[0m \u001b[1m0s\u001b[0m 15ms/step - loss: 1.5584\n",
            " mean perplexity: 6.306304574344577 \n",
            "\n",
            "\u001b[1m438/438\u001b[0m \u001b[32m━━━━━━━━━━━━━━━━━━━━\u001b[0m\u001b[37m\u001b[0m \u001b[1m8s\u001b[0m 19ms/step - loss: 1.5584\n",
            "Epoch 11/20\n",
            "\u001b[1m438/438\u001b[0m \u001b[32m━━━━━━━━━━━━━━━━━━━━\u001b[0m\u001b[37m\u001b[0m \u001b[1m0s\u001b[0m 16ms/step - loss: 1.5469\n",
            " mean perplexity: 6.260097716223068 \n",
            "\n",
            "\u001b[1m438/438\u001b[0m \u001b[32m━━━━━━━━━━━━━━━━━━━━\u001b[0m\u001b[37m\u001b[0m \u001b[1m12s\u001b[0m 22ms/step - loss: 1.5469\n",
            "Epoch 12/20\n",
            "\u001b[1m438/438\u001b[0m \u001b[32m━━━━━━━━━━━━━━━━━━━━\u001b[0m\u001b[37m\u001b[0m \u001b[1m0s\u001b[0m 16ms/step - loss: 1.5334\n",
            " mean perplexity: 6.309877601641121 \n",
            "\n",
            "\u001b[1m438/438\u001b[0m \u001b[32m━━━━━━━━━━━━━━━━━━━━\u001b[0m\u001b[37m\u001b[0m \u001b[1m10s\u001b[0m 22ms/step - loss: 1.5334\n",
            "Epoch 13/20\n",
            "\u001b[1m435/438\u001b[0m \u001b[32m━━━━━━━━━━━━━━━━━━━\u001b[0m\u001b[37m━\u001b[0m \u001b[1m0s\u001b[0m 16ms/step - loss: 1.5253\n",
            " mean perplexity: 6.212948003499282 \n",
            "\n",
            "Saved new model!\n",
            "\u001b[1m438/438\u001b[0m \u001b[32m━━━━━━━━━━━━━━━━━━━━\u001b[0m\u001b[37m\u001b[0m \u001b[1m10s\u001b[0m 22ms/step - loss: 1.5252\n",
            "Epoch 14/20\n",
            "\u001b[1m435/438\u001b[0m \u001b[32m━━━━━━━━━━━━━━━━━━━\u001b[0m\u001b[37m━\u001b[0m \u001b[1m0s\u001b[0m 15ms/step - loss: 1.5158\n",
            " mean perplexity: 6.283826465968131 \n",
            "\n",
            "\u001b[1m438/438\u001b[0m \u001b[32m━━━━━━━━━━━━━━━━━━━━\u001b[0m\u001b[37m\u001b[0m \u001b[1m8s\u001b[0m 19ms/step - loss: 1.5158\n",
            "Epoch 15/20\n",
            "\u001b[1m438/438\u001b[0m \u001b[32m━━━━━━━━━━━━━━━━━━━━\u001b[0m\u001b[37m\u001b[0m \u001b[1m0s\u001b[0m 16ms/step - loss: 1.5096\n",
            " mean perplexity: 6.213058909730688 \n",
            "\n",
            "\u001b[1m438/438\u001b[0m \u001b[32m━━━━━━━━━━━━━━━━━━━━\u001b[0m\u001b[37m\u001b[0m \u001b[1m12s\u001b[0m 22ms/step - loss: 1.5096\n",
            "Epoch 16/20\n",
            "\u001b[1m436/438\u001b[0m \u001b[32m━━━━━━━━━━━━━━━━━━━\u001b[0m\u001b[37m━\u001b[0m \u001b[1m0s\u001b[0m 16ms/step - loss: 1.5034\n",
            " mean perplexity: 6.273814476690489 \n",
            "\n",
            "\u001b[1m438/438\u001b[0m \u001b[32m━━━━━━━━━━━━━━━━━━━━\u001b[0m\u001b[37m\u001b[0m \u001b[1m10s\u001b[0m 22ms/step - loss: 1.5034\n",
            "Epoch 17/20\n",
            "\u001b[1m437/438\u001b[0m \u001b[32m━━━━━━━━━━━━━━━━━━━\u001b[0m\u001b[37m━\u001b[0m \u001b[1m0s\u001b[0m 16ms/step - loss: 1.4991\n",
            " mean perplexity: 6.336316869750699 \n",
            "\n",
            "\u001b[1m438/438\u001b[0m \u001b[32m━━━━━━━━━━━━━━━━━━━━\u001b[0m\u001b[37m\u001b[0m \u001b[1m8s\u001b[0m 19ms/step - loss: 1.4991\n",
            "Epoch 18/20\n",
            "\u001b[1m435/438\u001b[0m \u001b[32m━━━━━━━━━━━━━━━━━━━\u001b[0m\u001b[37m━\u001b[0m \u001b[1m0s\u001b[0m 15ms/step - loss: 1.4945\n",
            " mean perplexity: 6.294509309025462 \n",
            "\n",
            "Stopping training...\n",
            "\u001b[1m438/438\u001b[0m \u001b[32m━━━━━━━━━━━━━━━━━━━━\u001b[0m\u001b[37m\u001b[0m \u001b[1m11s\u001b[0m 21ms/step - loss: 1.4945\n"
          ]
        }
      ],
      "source": [
        "# fiteamos, nótese el agregado del callback con su inicialización. El batch_size lo podemos seleccionar a mano\n",
        "# en general, lo mejor es escoger el batch más grande posible que minimice el tiempo de cada época.\n",
        "# En la variable `history_ppl` se guardarán los valores de perplejidad para cada época.\n",
        "history_ppl = []\n",
        "hist = model.fit(X, y, epochs=20, callbacks=[PplCallback(tokenized_sentences_val,history_ppl)], batch_size=256)"
      ]
    },
    {
      "cell_type": "code",
      "execution_count": null,
      "metadata": {
        "id": "K30JHB3Dv-mx",
        "colab": {
          "base_uri": "https://localhost:8080/",
          "height": 430
        },
        "outputId": "6ecabc43-4b82-49c1-ef15-be2227e846e1"
      },
      "outputs": [
        {
          "output_type": "display_data",
          "data": {
            "text/plain": [
              "<Figure size 640x480 with 1 Axes>"
            ],
            "image/png": "[encoded data removed]"
          },
          "metadata": {}
        }
      ],
      "source": [
        "import matplotlib.pyplot as plt\n",
        "import seaborn as sns\n",
        "\n",
        "# Entrenamiento\n",
        "epoch_count = range(1, len(history_ppl) + 1)\n",
        "sns.lineplot(x=epoch_count,  y=history_ppl)\n",
        "plt.show()"
      ]
    },
    {
      "cell_type": "code",
      "execution_count": null,
      "metadata": {
        "id": "Rhy5hZN38qfO"
      },
      "outputs": [],
      "source": [
        "# Cargamos el mejor modelo guardado del entrenamiento para hacer inferencia\n",
        "model = keras.models.load_model('my_model.keras')"
      ]
    },
    {
      "cell_type": "markdown",
      "metadata": {
        "id": "KN6Fg_BsxJe6"
      },
      "source": [
        "\n",
        "### Predicción del próximo caracter"
      ]
    },
    {
      "cell_type": "code",
      "execution_count": null,
      "metadata": {
        "id": "IBvKHFPmzpy2",
        "colab": {
          "base_uri": "https://localhost:8080/"
        },
        "outputId": "73be8f64-6a1a-4d09-f98e-4fcfa22273f0"
      },
      "outputs": [
        {
          "output_type": "stream",
          "name": "stdout",
          "text": [
            "\u001b[2K   \u001b[90m━━━━━━━━━━━━━━━━━━━━━━━━━━━━━━━━━━━━━━━━\u001b[0m \u001b[32m57.2/57.2 MB\u001b[0m \u001b[31m15.6 MB/s\u001b[0m eta \u001b[36m0:00:00\u001b[0m\n",
            "\u001b[2K   \u001b[90m━━━━━━━━━━━━━━━━━━━━━━━━━━━━━━━━━━━━━━━━\u001b[0m \u001b[32m320.4/320.4 kB\u001b[0m \u001b[31m26.2 MB/s\u001b[0m eta \u001b[36m0:00:00\u001b[0m\n",
            "\u001b[2K   \u001b[90m━━━━━━━━━━━━━━━━━━━━━━━━━━━━━━━━━━━━━━━━\u001b[0m \u001b[32m94.8/94.8 kB\u001b[0m \u001b[31m8.6 MB/s\u001b[0m eta \u001b[36m0:00:00\u001b[0m\n",
            "\u001b[2K   \u001b[90m━━━━━━━━━━━━━━━━━━━━━━━━━━━━━━━━━━━━━━━━\u001b[0m \u001b[32m11.2/11.2 MB\u001b[0m \u001b[31m115.6 MB/s\u001b[0m eta \u001b[36m0:00:00\u001b[0m\n",
            "\u001b[2K   \u001b[90m━━━━━━━━━━━━━━━━━━━━━━━━━━━━━━━━━━━━━━━━\u001b[0m \u001b[32m73.2/73.2 kB\u001b[0m \u001b[31m6.3 MB/s\u001b[0m eta \u001b[36m0:00:00\u001b[0m\n",
            "\u001b[2K   \u001b[90m━━━━━━━━━━━━━━━━━━━━━━━━━━━━━━━━━━━━━━━━\u001b[0m \u001b[32m62.3/62.3 kB\u001b[0m \u001b[31m5.6 MB/s\u001b[0m eta \u001b[36m0:00:00\u001b[0m\n",
            "\u001b[?25h"
          ]
        }
      ],
      "source": [
        "# Se puede usar gradio para probar el modelo\n",
        "# Gradio es una herramienta muy útil para crear interfaces para ensayar modelos\n",
        "# https://gradio.app/\n",
        "\n",
        "!pip install -q gradio"
      ]
    },
    {
      "cell_type": "code",
      "execution_count": null,
      "metadata": {
        "id": "HNyBykvhzs7-",
        "colab": {
          "base_uri": "https://localhost:8080/",
          "height": 782
        },
        "outputId": "a63ca6bf-f5c6-47bc-d7a5-d8d6579d3218"
      },
      "outputs": [
        {
          "output_type": "stream",
          "name": "stdout",
          "text": [
            "Running Gradio in a Colab notebook requires sharing enabled. Automatically setting `share=True` (you can turn this off by setting `share=False` in `launch()` explicitly).\n",
            "\n",
            "Colab notebook detected. This cell will run indefinitely so that you can see errors and logs. To turn off, set debug=False in launch().\n",
            "* Running on public URL: https://9781458e8178564bed.gradio.live\n",
            "\n",
            "This share link expires in 72 hours. For free permanent hosting and GPU upgrades, run `gradio deploy` from the terminal in the working directory to deploy to Hugging Face Spaces (https://huggingface.co/spaces)\n"
          ]
        },
        {
          "output_type": "display_data",
          "data": {
            "text/plain": [
              "<IPython.core.display.HTML object>"
            ],
            "text/html": [
              "<div><iframe src=\"https://9781458e8178564bed.gradio.live\" width=\"100%\" height=\"500\" allow=\"autoplay; camera; microphone; clipboard-read; clipboard-write;\" frameborder=\"0\" allowfullscreen></iframe></div>"
            ]
          },
          "metadata": {}
        },
        {
          "output_type": "stream",
          "name": "stdout",
          "text": [
            "\u001b[1m1/1\u001b[0m \u001b[32m━━━━━━━━━━━━━━━━━━━━\u001b[0m\u001b[37m\u001b[0m \u001b[1m2s\u001b[0m 2s/step\n",
            "\u001b[1m1/1\u001b[0m \u001b[32m━━━━━━━━━━━━━━━━━━━━\u001b[0m\u001b[37m\u001b[0m \u001b[1m0s\u001b[0m 16ms/step\n",
            "\u001b[1m1/1\u001b[0m \u001b[32m━━━━━━━━━━━━━━━━━━━━\u001b[0m\u001b[37m\u001b[0m \u001b[1m0s\u001b[0m 17ms/step\n",
            "\u001b[1m1/1\u001b[0m \u001b[32m━━━━━━━━━━━━━━━━━━━━\u001b[0m\u001b[37m\u001b[0m \u001b[1m0s\u001b[0m 17ms/step\n",
            "\u001b[1m1/1\u001b[0m \u001b[32m━━━━━━━━━━━━━━━━━━━━\u001b[0m\u001b[37m\u001b[0m \u001b[1m0s\u001b[0m 16ms/step\n",
            "\u001b[1m1/1\u001b[0m \u001b[32m━━━━━━━━━━━━━━━━━━━━\u001b[0m\u001b[37m\u001b[0m \u001b[1m0s\u001b[0m 16ms/step\n",
            "Created dataset file at: .gradio/flagged/dataset1.csv\n",
            "Keyboard interruption in main thread... closing server.\n",
            "Killing tunnel 127.0.0.1:7860 <> https://9781458e8178564bed.gradio.live\n"
          ]
        },
        {
          "output_type": "execute_result",
          "data": {
            "text/plain": []
          },
          "metadata": {},
          "execution_count": 50
        }
      ],
      "source": [
        "import gradio as gr\n",
        "\n",
        "def model_response(human_text):\n",
        "\n",
        "    # Encodeamos\n",
        "    encoded = [char2idx[ch] for ch in human_text.lower() ]\n",
        "    # Si tienen distinto largo\n",
        "    encoded = pad_sequences([encoded], maxlen=max_context_size, padding='pre')\n",
        "\n",
        "    # Predicción softmax\n",
        "    y_hat = np.argmax(model.predict(encoded)[0,-1,:])\n",
        "\n",
        "\n",
        "    # Debemos buscar en el vocabulario el caracter\n",
        "    # que corresopnde al indice (y_hat) predicho por le modelo\n",
        "    out_word = ''\n",
        "    out_word = idx2char[y_hat]\n",
        "\n",
        "    # Agrego la palabra a la frase predicha\n",
        "    return human_text + out_word\n",
        "\n",
        "iface = gr.Interface(\n",
        "    fn=model_response,\n",
        "    inputs=[\"textbox\"],\n",
        "    outputs=\"text\")\n",
        "\n",
        "iface.launch(debug=True)"
      ]
    },
    {
      "cell_type": "markdown",
      "metadata": {
        "id": "mCeMWWupxN1-"
      },
      "source": [
        "### Generación de secuencias"
      ]
    },
    {
      "cell_type": "code",
      "execution_count": null,
      "metadata": {
        "id": "bwbS_pfhxvB3"
      },
      "outputs": [],
      "source": [
        "def generate_seq(model, seed_text, max_length, n_words):\n",
        "    \"\"\"\n",
        "        Exec model sequence prediction\n",
        "\n",
        "        Args:\n",
        "            model (keras): modelo entrenado\n",
        "            seed_text (string): texto de entrada (input_seq)\n",
        "            max_length (int): máxima longitud de la sequencia de entrada\n",
        "            n_words (int): números de caracteres a agregar a la sequencia de entrada\n",
        "        returns:\n",
        "            output_text (string): sentencia con las \"n_words\" agregadas\n",
        "    \"\"\"\n",
        "    output_text = seed_text\n",
        "\t# generate a fixed number of words\n",
        "    for _ in range(n_words):\n",
        "\t\t# Encodeamos\n",
        "        encoded = [char2idx[ch] for ch in output_text.lower() ]\n",
        "\t\t# Si tienen distinto largo\n",
        "        encoded = pad_sequences([encoded], maxlen=max_length, padding='pre')\n",
        "\n",
        "\t\t# Predicción softmax\n",
        "        y_hat = np.argmax(model.predict(encoded,verbose=0)[0,-1,:])\n",
        "\t\t# Vamos concatenando las predicciones\n",
        "        out_word = ''\n",
        "\n",
        "        out_word = idx2char[y_hat]\n",
        "\n",
        "\t\t# Agrego las palabras a la frase predicha\n",
        "        output_text += out_word\n",
        "    return output_text"
      ]
    },
    {
      "cell_type": "code",
      "execution_count": null,
      "metadata": {
        "id": "JoFqRC5pxzqS",
        "colab": {
          "base_uri": "https://localhost:8080/",
          "height": 35
        },
        "outputId": "33d5f0df-e1df-4fdb-ad25-2dd4212f877a"
      },
      "outputs": [
        {
          "output_type": "execute_result",
          "data": {
            "text/plain": [
              "'habia una vez en la cama en la cama con el '"
            ],
            "application/vnd.google.colaboratory.intrinsic+json": {
              "type": "string"
            }
          },
          "metadata": {},
          "execution_count": 52
        }
      ],
      "source": [
        "input_text='habia una vez'\n",
        "\n",
        "generate_seq(model, input_text, max_length=max_context_size, n_words=30)"
      ]
    },
    {
      "cell_type": "markdown",
      "metadata": {
        "id": "drJ6xn5qW1Hl"
      },
      "source": [
        "###  Beam search y muestreo aleatorio"
      ]
    },
    {
      "cell_type": "code",
      "execution_count": null,
      "metadata": {
        "id": "_vovn9XZW1Hl"
      },
      "outputs": [],
      "source": [
        "# funcionalidades para hacer encoding y decoding\n",
        "\n",
        "def encode(text,max_length=max_context_size):\n",
        "\n",
        "    encoded = [char2idx[ch] for ch in text]\n",
        "    encoded = pad_sequences([encoded], maxlen=max_length, padding='pre')\n",
        "\n",
        "    return encoded\n",
        "\n",
        "def decode(seq):\n",
        "    return ''.join([idx2char[ch] for ch in seq])"
      ]
    },
    {
      "cell_type": "code",
      "execution_count": null,
      "metadata": {
        "id": "I_lZiQwkW1Hl"
      },
      "outputs": [],
      "source": [
        "from scipy.special import softmax\n",
        "\n",
        "# función que selecciona candidatos para el beam search\n",
        "def select_candidates(pred,num_beams,vocab_size,history_probs,history_tokens,temp,mode):\n",
        "\n",
        "  # colectar todas las probabilidades para la siguiente búsqueda\n",
        "  pred_large = []\n",
        "\n",
        "  for idx,pp in enumerate(pred):\n",
        "    pred_large.extend(np.log(pp+1E-10)+history_probs[idx])\n",
        "\n",
        "  pred_large = np.array(pred_large)\n",
        "\n",
        "  # criterio de selección\n",
        "  if mode == 'det':\n",
        "    idx_select = np.argsort(pred_large)[::-1][:num_beams] # beam search determinista\n",
        "  elif mode == 'sto':\n",
        "    idx_select = np.random.choice(np.arange(pred_large.shape[0]), num_beams, p=softmax(pred_large/temp)) # beam search con muestreo aleatorio\n",
        "  else:\n",
        "    raise ValueError(f'Wrong selection mode. {mode} was given. det and sto are supported.')\n",
        "\n",
        "  # traducir a índices de token en el vocabulario\n",
        "  new_history_tokens = np.concatenate((np.array(history_tokens)[idx_select//vocab_size],\n",
        "                        np.array([idx_select%vocab_size]).T),\n",
        "                      axis=1)\n",
        "\n",
        "  # devolver el producto de las probabilidades (log) y la secuencia de tokens seleccionados\n",
        "  return pred_large[idx_select.astype(int)], new_history_tokens.astype(int)\n",
        "\n",
        "\n",
        "def beam_search(model,num_beams,num_words,input,temp=1,mode='det'):\n",
        "\n",
        "    # first iteration\n",
        "\n",
        "    # encode\n",
        "    encoded = encode(input)\n",
        "\n",
        "    # first prediction\n",
        "    y_hat = model.predict(encoded,verbose=0)[0,-1,:]\n",
        "\n",
        "    # get vocabulary size\n",
        "    vocab_size = y_hat.shape[0]\n",
        "\n",
        "    # initialize history\n",
        "    history_probs = [0]*num_beams\n",
        "    history_tokens = [encoded[0]]*num_beams\n",
        "\n",
        "    # select num_beams candidates\n",
        "    history_probs, history_tokens = select_candidates([y_hat],\n",
        "                                        num_beams,\n",
        "                                        vocab_size,\n",
        "                                        history_probs,\n",
        "                                        history_tokens,\n",
        "                                        temp,\n",
        "                                        mode)\n",
        "\n",
        "    # beam search loop\n",
        "    for i in range(num_words-1):\n",
        "\n",
        "      preds = []\n",
        "\n",
        "      for hist in history_tokens:\n",
        "\n",
        "        # actualizar secuencia de tokens\n",
        "        input_update = np.array([hist[i+1:]]).copy()\n",
        "\n",
        "        # predicción\n",
        "        y_hat = model.predict(input_update,verbose=0)[0,-1,:]\n",
        "\n",
        "        preds.append(y_hat)\n",
        "\n",
        "      history_probs, history_tokens = select_candidates(preds,\n",
        "                                                        num_beams,\n",
        "                                                        vocab_size,\n",
        "                                                        history_probs,\n",
        "                                                        history_tokens,\n",
        "                                                        temp,\n",
        "                                                        mode)\n",
        "\n",
        "    return history_tokens[:,-(len(input)+num_words):]"
      ]
    },
    {
      "cell_type": "code",
      "execution_count": null,
      "metadata": {
        "id": "GeLqAoOYW1Hm"
      },
      "outputs": [],
      "source": [
        "# predicción con beam search\n",
        "salidas = beam_search(model,num_beams=10,num_words=20,input=\"habia una vez\")"
      ]
    },
    {
      "cell_type": "code",
      "execution_count": null,
      "metadata": {
        "id": "P8HQoLhw-NYg",
        "colab": {
          "base_uri": "https://localhost:8080/"
        },
        "outputId": "b56f8b68-14f6-497d-bd14-6c61c6d1844d"
      },
      "outputs": [
        {
          "output_type": "execute_result",
          "data": {
            "text/plain": [
              "array([56, 47,  0, 33, 47, 34,  7, 20, 47, 34, 28, 51, 24, 34, 26, 51, 34,\n",
              "       49, 47, 34, 56, 47,  0, 33, 32, 47, 17, 33, 16, 20, 34, 26, 51])"
            ]
          },
          "metadata": {},
          "execution_count": 56
        }
      ],
      "source": [
        "salidas[0]"
      ]
    },
    {
      "cell_type": "code",
      "execution_count": null,
      "metadata": {
        "id": "2S3_I3S1W1Hm",
        "colab": {
          "base_uri": "https://localhost:8080/",
          "height": 35
        },
        "outputId": "4e3bb648-b4e8-46a0-c362-1f0d6e2dc9e2"
      },
      "outputs": [
        {
          "output_type": "execute_result",
          "data": {
            "text/plain": [
              "'habia una vez de la habitación de'"
            ],
            "application/vnd.google.colaboratory.intrinsic+json": {
              "type": "string"
            }
          },
          "metadata": {},
          "execution_count": 57
        }
      ],
      "source": [
        "# veamos las salidas\n",
        "decode(salidas[0])"
      ]
    },
    {
      "cell_type": "markdown",
      "metadata": {
        "id": "Q_LlqmtEW1Hn"
      },
      "source": []
    }
  ],
  "metadata": {
    "accelerator": "GPU",
    "colab": {
      "gpuType": "T4",
      "provenance": [],
      "include_colab_link": true
    },
    "kernelspec": {
      "display_name": "nlp39",
      "language": "python",
      "name": "python3"
    },
    "language_info": {
      "codemirror_mode": {
        "name": "ipython",
        "version": 3
      },
      "file_extension": ".py",
      "mimetype": "text/x-python",
      "name": "python",
      "nbconvert_exporter": "python",
      "pygments_lexer": "ipython3",
      "version": "3.9.21"
    }
  },
  "nbformat": 4,
  "nbformat_minor": 0
}