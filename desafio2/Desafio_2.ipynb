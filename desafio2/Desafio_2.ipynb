{
  "cells": [
    {
      "cell_type": "markdown",
      "metadata": {
        "id": "view-in-github",
        "colab_type": "text"
      },
      "source": [
        "<a href=\"https://colab.research.google.com/github/hernansilva21/pnl-tp/blob/main/desafio2/Desafio_2.ipynb\" target=\"_parent\"><img src=\"https://colab.research.google.com/assets/colab-badge.svg\" alt=\"Open In Colab\"/></a>"
      ]
    },
    {
      "cell_type": "markdown",
      "metadata": {
        "id": "BOR5H1Q59mfn"
      },
      "source": [
        "# Procesamiento de Lenguaje Natural - CEIA\n",
        "# Desafío 2\n",
        "## Alumno: Hernán Matías Silva"
      ]
    },
    {
      "cell_type": "markdown",
      "metadata": {
        "id": "i3s4D2_39mfq"
      },
      "source": [
        "Crear sus propios vectores con Gensim basado en lo visto en clase con otro dataset.\n",
        "Probar términos de interés y explicar similitudes en el espacio de embeddings.\n",
        "Intentar plantear y probar tests de analogías.\n",
        "Graficar los embeddings resultantes.\n",
        "Sacar conclusiones."
      ]
    },
    {
      "cell_type": "code",
      "execution_count": 1,
      "metadata": {
        "id": "1DI64emP9mfs"
      },
      "outputs": [],
      "source": [
        "import pandas as pd\n",
        "import matplotlib.pyplot as plt\n",
        "import seaborn as sns\n",
        "\n",
        "import multiprocessing\n",
        "from gensim.models import Word2Vec\n"
      ]
    },
    {
      "cell_type": "markdown",
      "metadata": {
        "id": "7fJH_W66prik"
      },
      "source": [
        "Compilación de literatura completa de dominio público en español."
      ]
    },
    {
      "cell_type": "code",
      "execution_count": null,
      "metadata": {
        "colab": {
          "base_uri": "https://localhost:8080/"
        },
        "id": "ce-Ex5M3L7gj",
        "outputId": "5a510cd5-b550-4baa-e7a4-10dfdb806854"
      },
      "outputs": [
        {
          "name": "stdout",
          "output_type": "stream",
          "text": [
            "El dataset ya se encuentra descargado\n"
          ]
        }
      ],
      "source": [
        "# Descargar la carpeta de dataset\n",
        "import os\n",
        "import platform\n",
        "if os.access('./textos_dataset', os.F_OK) is False:\n",
        "    if os.access('libros.zip', os.F_OK) is False:\n",
        "        if platform.system() == 'Windows':\n",
        "            !curl https://raw.githubusercontent.com/FIUBA-Posgrado-Inteligencia-Artificial/procesamiento_lenguaje_natural/main/datasets/songs_dataset.zip -o songs_dataset.zip\n",
        "        else:\n",
        "            !wget songs_dataset.zip https://github.com/FIUBA-Posgrado-Inteligencia-Artificial/procesamiento_lenguaje_natural/raw/main/datasets/songs_dataset.zip\n",
        "    !unzip -q libros.zip\n",
        "else:\n",
        "    print(\"El dataset ya se encuentra descargado\")"
      ]
    },
    {
      "cell_type": "code",
      "execution_count": null,
      "metadata": {
        "id": "8XjWSF5jgzsO"
      },
      "outputs": [],
      "source": [
        "!unzip -q './textos_dataset/libros.zip' -d './libros_dataset'"
      ]
    },
    {
      "cell_type": "code",
      "execution_count": null,
      "metadata": {
        "colab": {
          "base_uri": "https://localhost:8080/"
        },
        "id": "Fs7wBvThvbHH",
        "outputId": "091df3de-b972-48c0-d772-aba44c1a67d8"
      },
      "outputs": [
        {
          "name": "stdout",
          "output_type": "stream",
          "text": [
            "                                             parrafo\n",
            "0                                                   \n",
            "1  Voy a hablar de Granada, o mejor dicho, voy a ...\n",
            "2  Esas ideas que, sin orden preconcebido, y pudi...\n",
            "3  Los artistas de aguja y tijera saben perfectam...\n",
            "4  Si un campesino os pregunta qué medios debe em...\n"
          ]
        }
      ],
      "source": [
        "import os\n",
        "import pandas as pd\n",
        "from bs4 import BeautifulSoup\n",
        "\n",
        "# Ruta de la carpeta con los archivos HTML\n",
        "carpeta_libros = './libros_dataset'\n",
        "\n",
        "# Lista para almacenar los párrafos\n",
        "parrafos = []\n",
        "\n",
        "# Recorrer todos los archivos en la carpeta\n",
        "for archivo in os.listdir(carpeta_libros):\n",
        "    if archivo.endswith('.html'):\n",
        "        ruta_archivo = os.path.join(carpeta_libros, archivo)\n",
        "        with open(ruta_archivo, 'r', encoding='utf-8') as f:\n",
        "            contenido = f.read()\n",
        "            soup = BeautifulSoup(contenido, 'html.parser')\n",
        "\n",
        "            # Extraer todos los párrafos\n",
        "            for parrafo in soup.find_all('p'):\n",
        "                texto_parrafo = parrafo.get_text(strip=True)\n",
        "                parrafos.append(texto_parrafo)\n",
        "\n",
        "# Crear un DataFrame a partir de la lista de párrafos\n",
        "df = pd.DataFrame(parrafos, columns=['parrafo'])\n",
        "\n",
        "# Mostrar los primeros registros del DataFrame\n",
        "print(df.head())\n",
        "\n",
        "# Guardar el DataFrame en un archivo CSV\n",
        "df.to_csv('./textos_dataset/parrafos_libros.csv', index=False)\n"
      ]
    },
    {
      "cell_type": "code",
      "execution_count": null,
      "metadata": {
        "colab": {
          "base_uri": "https://localhost:8080/"
        },
        "id": "1A8laHcpw0ox",
        "outputId": "3cf3aace-83c5-46f2-ccc4-81455294ebf5"
      },
      "outputs": [
        {
          "name": "stdout",
          "output_type": "stream",
          "text": [
            "Cantidad de documentos: 207181\n"
          ]
        }
      ],
      "source": [
        "print(\"Cantidad de documentos:\", df.shape[0])"
      ]
    },
    {
      "cell_type": "markdown",
      "metadata": {
        "id": "h6b4Td6_xcSg"
      },
      "source": [
        "### 1 - Preprocesamiento"
      ]
    },
    {
      "cell_type": "code",
      "execution_count": null,
      "metadata": {
        "colab": {
          "base_uri": "https://localhost:8080/"
        },
        "id": "Pd4CK6QPxgcR",
        "outputId": "89a8a192-5a1a-4215-9953-6b7c2e3715e7"
      },
      "outputs": [
        {
          "name": "stderr",
          "output_type": "stream",
          "text": [
            "<ipython-input-10-99a399a8b871>:7: FutureWarning: Series.__getitem__ treating keys as positions is deprecated. In a future version, integer keys will always be treated as labels (consistent with DataFrame behavior). To access a value by position, use `ser.iloc[pos]`\n",
            "  sentence_tokens.append(text_to_word_sequence(row[0]))\n"
          ]
        }
      ],
      "source": [
        "from tensorflow.keras.preprocessing.text import text_to_word_sequence\n",
        "\n",
        "sentence_tokens = []\n",
        "# Recorrer todas las filas y transformar las oraciones\n",
        "# en una secuencia de palabras (esto podría realizarse con NLTK o spaCy también)\n",
        "for _, row in df[:None].iterrows():\n",
        "    sentence_tokens.append(text_to_word_sequence(row[0]))"
      ]
    },
    {
      "cell_type": "code",
      "execution_count": null,
      "metadata": {
        "colab": {
          "base_uri": "https://localhost:8080/"
        },
        "id": "cMcn1qzKzHOx",
        "outputId": "28b727d0-f511-456d-b34b-f336e327c844"
      },
      "outputs": [
        {
          "data": {
            "text/plain": [
              "[[],\n",
              " ['voy',\n",
              "  'a',\n",
              "  'hablar',\n",
              "  'de',\n",
              "  'granada',\n",
              "  'o',\n",
              "  'mejor',\n",
              "  'dicho',\n",
              "  'voy',\n",
              "  'a',\n",
              "  'escribir',\n",
              "  'sobre',\n",
              "  'granada',\n",
              "  'unos',\n",
              "  'cuantos',\n",
              "  'artículos',\n",
              "  'para',\n",
              "  'exponer',\n",
              "  'ideas',\n",
              "  'viejas',\n",
              "  'con',\n",
              "  'espíritu',\n",
              "  'nuevo',\n",
              "  'y',\n",
              "  'acaso',\n",
              "  'ideas',\n",
              "  'nuevas',\n",
              "  'con',\n",
              "  'viejo',\n",
              "  'espíritu',\n",
              "  'pero',\n",
              "  'desde',\n",
              "  'el',\n",
              "  'comienzo',\n",
              "  'dése',\n",
              "  'por',\n",
              "  'sentado',\n",
              "  'que',\n",
              "  'mi',\n",
              "  'intención',\n",
              "  'no',\n",
              "  'es',\n",
              "  'cantar',\n",
              "  'bellezas',\n",
              "  'reales',\n",
              "  'sino',\n",
              "  'bellezas',\n",
              "  'ideales',\n",
              "  'imaginarias',\n",
              "  'mi',\n",
              "  'granada',\n",
              "  'no',\n",
              "  'es',\n",
              "  'la',\n",
              "  'de',\n",
              "  'hoy',\n",
              "  'es',\n",
              "  'la',\n",
              "  'que',\n",
              "  'pudiera',\n",
              "  'y',\n",
              "  'debiera',\n",
              "  'ser',\n",
              "  'la',\n",
              "  'que',\n",
              "  'ignoro',\n",
              "  'si',\n",
              "  'algún',\n",
              "  'día',\n",
              "  'será',\n",
              "  'que',\n",
              "  'por',\n",
              "  'grandes',\n",
              "  'que',\n",
              "  'sean',\n",
              "  'nuestras',\n",
              "  'esperanzas',\n",
              "  'nuestra',\n",
              "  'fe',\n",
              "  'en',\n",
              "  'la',\n",
              "  'fuerza',\n",
              "  'inconsciente',\n",
              "  'de',\n",
              "  'las',\n",
              "  'cosas',\n",
              "  'por',\n",
              "  'tan',\n",
              "  'torcidos',\n",
              "  'caminos',\n",
              "  'marchamos',\n",
              "  'las',\n",
              "  'personas',\n",
              "  'que',\n",
              "  'cuanto',\n",
              "  'atañe',\n",
              "  'al',\n",
              "  'porvenir',\n",
              "  'se',\n",
              "  'presta',\n",
              "  'ahora',\n",
              "  'menos',\n",
              "  'que',\n",
              "  'nunca',\n",
              "  'a',\n",
              "  'los',\n",
              "  'arranques',\n",
              "  'proféticos']]"
            ]
          },
          "execution_count": 11,
          "metadata": {},
          "output_type": "execute_result"
        }
      ],
      "source": [
        "sentence_tokens[:2]"
      ]
    },
    {
      "cell_type": "markdown",
      "metadata": {
        "id": "VhLXEutcznvL"
      },
      "source": [
        "### 2 - Crear los vectores (word2vec)"
      ]
    },
    {
      "cell_type": "code",
      "execution_count": null,
      "metadata": {
        "id": "XxYzgHtMzowj"
      },
      "outputs": [],
      "source": [
        "from gensim.models.callbacks import CallbackAny2Vec\n",
        "# Durante el entrenamiento gensim por defecto no informa el \"loss\" en cada época\n",
        "# Sobrecargamos el callback para poder tener esta información\n",
        "class callback(CallbackAny2Vec):\n",
        "    \"\"\"\n",
        "    Callback to print loss after each epoch\n",
        "    \"\"\"\n",
        "    def __init__(self):\n",
        "        self.epoch = 0\n",
        "\n",
        "    def on_epoch_end(self, model):\n",
        "        loss = model.get_latest_training_loss()\n",
        "        if self.epoch == 0:\n",
        "            print('Loss after epoch {}: {}'.format(self.epoch, loss))\n",
        "        else:\n",
        "            print('Loss after epoch {}: {}'.format(self.epoch, loss- self.loss_previous_step))\n",
        "        self.epoch += 1\n",
        "        self.loss_previous_step = loss"
      ]
    },
    {
      "cell_type": "code",
      "execution_count": null,
      "metadata": {
        "id": "BzSq9TDaz3FE"
      },
      "outputs": [],
      "source": [
        "# Crearmos el modelo generador de vectores\n",
        "# En este caso utilizaremos la estructura modelo Skipgram\n",
        "w2v_model = Word2Vec(min_count=5,    # frecuencia mínima de palabra para incluirla en el vocabulario\n",
        "                     window=2,       # cant de palabras antes y desp de la predicha\n",
        "                     vector_size=300,       # dimensionalidad de los vectores\n",
        "                     negative=20,    # cantidad de negative samples... 0 es no se usa\n",
        "                     workers=1,      # si tienen más cores pueden cambiar este valor\n",
        "                     sg=1)           # modelo 0:CBOW  1:skipgram"
      ]
    },
    {
      "cell_type": "code",
      "execution_count": null,
      "metadata": {
        "id": "Riqg3obj0Lo1"
      },
      "outputs": [],
      "source": [
        "# Obtener el vocabulario con los tokens\n",
        "w2v_model.build_vocab(sentence_tokens)"
      ]
    },
    {
      "cell_type": "code",
      "execution_count": null,
      "metadata": {
        "colab": {
          "base_uri": "https://localhost:8080/"
        },
        "id": "ouu0Uv7K0ToB",
        "outputId": "fc70997d-7e45-428d-deb1-5e4b92c81181"
      },
      "outputs": [
        {
          "name": "stdout",
          "output_type": "stream",
          "text": [
            "Cantidad de docs en el corpus: 207181\n"
          ]
        }
      ],
      "source": [
        "# Cantidad de filas/docs encontradas en el corpus\n",
        "print(\"Cantidad de docs en el corpus:\", w2v_model.corpus_count)"
      ]
    },
    {
      "cell_type": "code",
      "execution_count": null,
      "metadata": {
        "colab": {
          "base_uri": "https://localhost:8080/"
        },
        "id": "k41wtqjh0Ydb",
        "outputId": "4307bf3f-b451-4e3c-e3e7-2cd7b4693add"
      },
      "outputs": [
        {
          "name": "stdout",
          "output_type": "stream",
          "text": [
            "Cantidad de words distintas en el corpus: 62741\n"
          ]
        }
      ],
      "source": [
        "# Cantidad de words encontradas en el corpus\n",
        "print(\"Cantidad de words distintas en el corpus:\", len(w2v_model.wv.index_to_key))"
      ]
    },
    {
      "cell_type": "markdown",
      "metadata": {
        "id": "xowjTf0a0w-F"
      },
      "source": [
        "### 3 - Entrenar embeddings"
      ]
    },
    {
      "cell_type": "code",
      "execution_count": null,
      "metadata": {
        "colab": {
          "base_uri": "https://localhost:8080/"
        },
        "id": "wEXDW0Ke0yXL",
        "outputId": "0eb5f156-ead2-451c-f22f-023bc43f4a1b"
      },
      "outputs": [
        {
          "name": "stdout",
          "output_type": "stream",
          "text": [
            "Loss after epoch 0: 54873644.0\n",
            "Loss after epoch 1: 22235796.0\n",
            "Loss after epoch 2: 13073168.0\n",
            "Loss after epoch 3: 12745496.0\n",
            "Loss after epoch 4: 12469560.0\n",
            "Loss after epoch 5: 12238448.0\n",
            "Loss after epoch 6: 6581616.0\n",
            "Loss after epoch 7: 0.0\n",
            "Loss after epoch 8: 0.0\n",
            "Loss after epoch 9: 0.0\n",
            "Loss after epoch 10: 0.0\n",
            "Loss after epoch 11: 0.0\n",
            "Loss after epoch 12: 0.0\n",
            "Loss after epoch 13: 0.0\n",
            "Loss after epoch 14: 0.0\n",
            "Loss after epoch 15: 0.0\n",
            "Loss after epoch 16: 0.0\n",
            "Loss after epoch 17: 0.0\n",
            "Loss after epoch 18: 0.0\n",
            "Loss after epoch 19: 0.0\n"
          ]
        },
        {
          "data": {
            "text/plain": [
              "(146759872, 207145900)"
            ]
          },
          "execution_count": 17,
          "metadata": {},
          "output_type": "execute_result"
        }
      ],
      "source": [
        "# Entrenamos el modelo generador de vectores\n",
        "# Utilizamos nuestro callback\n",
        "w2v_model.train(sentence_tokens,\n",
        "                 total_examples=w2v_model.corpus_count,\n",
        "                 epochs=20,\n",
        "                 compute_loss = True,\n",
        "                 callbacks=[callback()]\n",
        "                 )"
      ]
    },
    {
      "cell_type": "markdown",
      "metadata": {
        "id": "RW59lvMn1C5s"
      },
      "source": [
        "### 4 - Ensayar"
      ]
    },
    {
      "cell_type": "code",
      "execution_count": null,
      "metadata": {
        "colab": {
          "base_uri": "https://localhost:8080/"
        },
        "id": "pYENpzt41EHt",
        "outputId": "9cb82b64-ffb2-4c39-be53-211ef17669bb"
      },
      "outputs": [
        {
          "data": {
            "text/plain": [
              "[('dinero…', 0.46923142671585083),\n",
              " ('déficit', 0.4308391809463501),\n",
              " ('cuidarme', 0.4233459234237671),\n",
              " ('abasto', 0.42317262291908264),\n",
              " ('peaje', 0.42294105887413025)]"
            ]
          },
          "execution_count": 18,
          "metadata": {},
          "output_type": "execute_result"
        }
      ],
      "source": [
        "# Palabras que MÁS se relacionan con...:\n",
        "w2v_model.wv.most_similar(positive=[\"dinero\"], topn=5)"
      ]
    },
    {
      "cell_type": "code",
      "execution_count": null,
      "metadata": {
        "colab": {
          "base_uri": "https://localhost:8080/"
        },
        "id": "YIQzYkBY1mJO",
        "outputId": "9ade5ab0-8cf2-4fd7-daca-6a48b16fabbc"
      },
      "outputs": [
        {
          "name": "stdout",
          "output_type": "stream",
          "text": [
            "[ 0.47693962 -0.2359217  -0.4619958  -0.1965238  -0.05965226  0.19737852\n",
            " -0.5186582   0.09628768 -0.01699479  0.15049896  0.14285971  0.38950148\n",
            " -0.06126163  0.10191393 -0.2715478   0.01027008  0.14782956  0.2878727\n",
            "  0.1859976  -0.49405912  0.11728859 -0.03826934  0.00542426  0.05069257\n",
            " -0.02344627 -0.18388493  0.0009743   0.2750295  -0.34778526 -0.40347898\n",
            "  0.40298226 -0.0314961  -0.30506614  0.15004283 -0.5473525  -0.15984342\n",
            " -0.04392413  0.23895332 -0.13792145  0.1123101   0.3040139   0.2616676\n",
            "  0.15392826  0.37357607  0.23134856  0.23320746 -0.07914295  0.10464758\n",
            "  0.15480562  0.14940627  0.12530026  0.667187    0.07622235  0.1262947\n",
            "  0.35557047  0.4652827   0.25515345  0.17693734  0.02925587  0.04048055\n",
            "  0.6250403   0.27927184 -0.0657535   0.18613794 -0.17349656  0.33965865\n",
            " -0.12616378 -0.25460857 -0.11995158 -0.20922893 -0.40453082  0.095162\n",
            "  0.09580968 -0.45915177 -0.20849814 -0.3451046  -0.1639717   0.47181946\n",
            " -0.24309513 -0.001597   -0.13212147 -0.1777917  -0.19348787  0.18234317\n",
            " -0.4286112   0.03686928  0.3867883   0.33377287 -0.09339515 -0.5536229\n",
            "  0.08463453  0.12727389  0.35525945  0.1055506  -0.01416797 -0.01889636\n",
            "  0.19461647  0.08928797 -0.11049844  0.12724985 -0.12935686  0.624245\n",
            " -0.21357282  0.2209121  -0.64109355  0.08191837 -0.04382181  0.14847596\n",
            " -0.39391068  0.6179912  -0.12624675 -0.06925873  0.10174268  0.17348167\n",
            " -0.25541857  0.3924241  -0.16848934  0.25440696 -0.10421373 -0.01344856\n",
            " -0.39658764  0.31215832  0.60886014 -0.22417861  0.19266003  0.21988064\n",
            "  0.02443705  0.30758783  0.17757468  0.22672777  0.47041452 -0.1266508\n",
            "  0.21755002 -0.42364872 -0.09983796  0.11819138  0.15747303 -0.04539777\n",
            " -0.15204042 -0.06216647 -0.57619876 -0.34919602 -0.08477494  0.4807788\n",
            "  0.12034599  0.20578735 -0.26603732 -0.03648842  0.30462524 -0.30742985\n",
            " -0.21639264  0.15278731 -0.37738284  0.4609016   0.7705508   0.25534886\n",
            " -0.35733753  0.22443473 -0.39166838  0.77118266 -0.2137006   0.1049352\n",
            " -0.20134437  0.35223225 -0.11459559  0.0068833   0.58198863  0.382333\n",
            "  0.02565902 -0.11010491 -0.18365622  0.26866478  0.38515976 -0.41721436\n",
            " -0.23939672 -0.2414411   0.30606848 -0.48421896  0.4074597   0.19236271\n",
            " -0.20610073 -0.22370197 -0.12651968 -0.5064651  -0.20063502  0.30015782\n",
            "  0.27757454  0.13566487 -0.09541329 -0.54495245  0.11541563 -0.39482686\n",
            " -0.2573855  -0.14108041  0.08447271  0.01574617  0.7333697  -0.1403719\n",
            "  0.02137305  0.12809527  0.29017937 -0.2818243   0.17815778 -0.6392459\n",
            " -0.59654754  0.03484423 -0.50143737  0.46665734  0.24828763 -0.01549517\n",
            " -0.7465013  -0.22959737  0.16402788  0.03200857  0.20320795  0.13661285\n",
            " -0.27085447  0.03532516 -0.127663   -0.46821603  0.03927632 -0.09578025\n",
            " -0.06745732 -0.2502626   0.26289216 -0.3921719   0.14703971 -0.25012904\n",
            "  0.21873116 -0.08017208 -0.2451296  -0.1888386   0.33344367 -0.03830611\n",
            " -0.38844675  0.01708778 -0.19024296 -0.00994903  0.0994539  -0.08967986\n",
            "  0.176578   -0.23278816 -0.19378166  0.07082152 -0.04826201  0.14590374\n",
            " -0.53250086  0.06248554  0.12309625  0.15607987 -0.06330634 -0.02087674\n",
            "  0.21404725 -0.18227166 -0.30227798 -0.12732783  0.43768984 -0.17419417\n",
            " -0.17530347 -0.28623644  0.5640203   0.23682646 -0.12515607  0.28067598\n",
            "  0.18146142  0.22284172  0.3819609   0.34303173 -0.07252891  0.20328574\n",
            " -0.05473569  0.3432514  -0.05257336 -0.46267843  0.43596566  0.39836675\n",
            " -0.20375596  0.6214651   0.09311154  0.06216181  0.5334241  -0.54868686\n",
            " -0.40764222  0.09133229  0.1873765   0.02472115 -0.11725503  0.3418528\n",
            " -0.31303063 -0.17138182 -0.1965302  -0.01923363  0.3432264  -0.15655549\n",
            " -0.09908992  0.30480993 -0.03147245 -0.05950462  0.1172743   0.04770817]\n"
          ]
        }
      ],
      "source": [
        "# el método `get_vector` permite obtener los vectores:\n",
        "vector_dinero = w2v_model.wv.get_vector(\"dinero\")\n",
        "print(vector_dinero)"
      ]
    },
    {
      "cell_type": "code",
      "execution_count": null,
      "metadata": {
        "colab": {
          "base_uri": "https://localhost:8080/"
        },
        "id": "4PwKG_2Y1sOh",
        "outputId": "c773f252-e432-4b2b-a86b-8d3536e66bc6"
      },
      "outputs": [
        {
          "data": {
            "text/plain": [
              "[('dinero', 1.0000001192092896),\n",
              " ('dinero…', 0.46923142671585083),\n",
              " ('déficit', 0.4308391809463501),\n",
              " ('cuidarme', 0.4233459234237671),\n",
              " ('abasto', 0.42317262291908264),\n",
              " ('peaje', 0.42294105887413025),\n",
              " ('adquirirlo', 0.4206572473049164),\n",
              " ('peseta', 0.41958722472190857),\n",
              " ('rédito', 0.41660770773887634),\n",
              " ('pagarlo', 0.4153023362159729)]"
            ]
          },
          "execution_count": 20,
          "metadata": {},
          "output_type": "execute_result"
        }
      ],
      "source": [
        "# el método `most_similar` también permite comparar a partir de vectores\n",
        "w2v_model.wv.most_similar(vector_dinero)"
      ]
    },
    {
      "cell_type": "markdown",
      "metadata": {
        "id": "WT32cpx518IQ"
      },
      "source": [
        "### 5 - Visualizar agrupación de vectores"
      ]
    },
    {
      "cell_type": "code",
      "execution_count": null,
      "metadata": {
        "id": "e_CnO9EL19Gh"
      },
      "outputs": [],
      "source": [
        "from sklearn.decomposition import IncrementalPCA\n",
        "from sklearn.manifold import TSNE\n",
        "import numpy as np\n",
        "\n",
        "def reduce_dimensions(model, num_dimensions = 2 ):\n",
        "\n",
        "    vectors = np.asarray(model.wv.vectors)\n",
        "    labels = np.asarray(model.wv.index_to_key)\n",
        "\n",
        "    tsne = TSNE(n_components=num_dimensions, random_state=0)\n",
        "    vectors = tsne.fit_transform(vectors)\n",
        "\n",
        "    return vectors, labels"
      ]
    },
    {
      "cell_type": "code",
      "execution_count": null,
      "metadata": {
        "colab": {
          "base_uri": "https://localhost:8080/",
          "height": 542
        },
        "id": "PIpXnOfK2CBJ",
        "outputId": "e42cdc8d-5f94-4dae-83b3-c32b41a502cd"
      },
      "outputs": [
        {
          "data": {
            "text/html": [
              "<html>\n",
              "<head><meta charset=\"utf-8\" /></head>\n",
              "<body>\n",
              "    <div>            <script src=\"https://cdnjs.cloudflare.com/ajax/libs/mathjax/2.7.5/MathJax.js?config=TeX-AMS-MML_SVG\"></script><script type=\"text/javascript\">if (window.MathJax && window.MathJax.Hub && window.MathJax.Hub.Config) {window.MathJax.Hub.Config({SVG: {font: \"STIX-Web\"}});}</script>                <script type=\"text/javascript\">window.PlotlyConfig = {MathJaxConfig: 'local'};</script>\n",
              "        <script charset=\"utf-8\" src=\"https://cdn.plot.ly/plotly-2.35.2.min.js\"></script>                <div id=\"2fd035e7-7b41-4771-9a63-6fa950749160\" class=\"plotly-graph-div\" style=\"height:525px; width:100%;\"></div>            <script type=\"text/javascript\">                                    window.PLOTLYENV=window.PLOTLYENV || {};                                    if (document.getElementById(\"2fd035e7-7b41-4771-9a63-6fa950749160\")) {                    Plotly.newPlot(                        \"2fd035e7-7b41-4771-9a63-6fa950749160\",                        [{\"hovertemplate\":\"x=%{x}\\u003cbr\\u003ey=%{y}\\u003cbr\\u003etext=%{text}\\u003cextra\\u003e\\u003c\\u002fextra\\u003e\",\"legendgroup\":\"\",\"marker\":{\"color\":\"#636efa\",\"symbol\":\"circle\"},\"mode\":\"markers+text\",\"name\":\"\",\"orientation\":\"v\",\"showlegend\":false,\"text\":[\"de\",\"que\",\"y\",\"la\",\"el\",\"en\",\"a\",\"los\",\"se\",\"no\",\"por\",\"su\",\"con\",\"las\",\"un\",\"lo\",\"del\",\"una\",\"al\",\"es\",\"para\",\"como\",\"le\",\"más\",\"me\",\"sus\",\"si\",\"pero\",\"mi\",\"había\",\"yo\",\"él\",\"porque\",\"sin\",\"todo\",\"era\",\"cuando\",\"o\",\"á\",\"ha\",\"ni\",\"ya\",\"tan\",\"todos\",\"muy\",\"ella\",\"así\",\"sobre\",\"bien\",\"ser\",\"pues\",\"esta\",\"te\",\"este\",\"dijo\",\"señor\",\"dios\",\"hasta\",\"usted\",\"dos\",\"esto\",\"qué\",\"entre\",\"hombre\",\"son\",\"—\",\"fue\",\"tu\",\"mismo\",\"estaba\",\"casa\",\"nos\",\"otro\",\"después\",\"ellos\",\"también\",\"he\",\"sino\",\"tiempo\",\"donde\",\"rey\",\"les\",\"vida\",\"aquel\",\"gran\",\"día\",\"uno\",\"os\",\"está\",\"don\",\"todas\",\"vez\",\"otra\",\"hay\",\"mucho\",\"hacer\",\"tanto\",\"cual\",\"entonces\",\"toda\",\"mí\",\"quien\",\"cosas\",\"tal\",\"sí\",\"siempre\",\"aquí\",\"allí\",\"parte\",\"aquella\",\"tenía\",\"nada\",\"eso\",\"poco\",\"desde\",\"ahora\",\"decir\",\"cosa\",\"puede\",\"mis\",\"antes\",\"»\",\"hombres\",\"otros\",\"han\",\"ojos\",\"cada\",\"luego\",\"tiene\",\"ver\",\"aunque\",\"mujer\",\"hecho\",\"tierra\",\"ese\",\"mano\",\"padre\",\"menos\",\"amor\",\"noche\",\"mundo\",\"—dijo\",\"sólo\",\"contra\",\"tú\",\"e\",\"yahveh\",\"fin\",\"hizo\",\"mas\",\"mal\",\"corazón\",\"habían\",\"veces\",\"hijo\",\"sido\",\"esa\",\"hace\",\"señora\",\"sea\",\"cuanto\",\"verdad\",\"manera\",\"¿qué\",\"alma\",\"nunca\",\"tres\",\"años\",\"algo\",\"cabeza\",\"medio\",\"mejor\",\"mientras\",\"otras\",\"haber\",\"manos\",\"días\",\"misma\",\"estas\",\"eran\",\"hacia\",\"modo\",\"pueblo\",\"dicho\",\"cómo\",\"estos\",\"lugar\",\"alguna\",\"mayor\",\"parece\",\"solo\",\"muerte\",\"momento\",\"nombre\",\"nosotros\",\"voz\",\"dice\",\"joven\",\"palabras\",\"podía\"],\"x\":[0.88863844,0.85550326,0.9323599,4.4761157,-9.505365,-2.8568382,7.576164,0.9314831,2.8284688,4.5531006,6.4943576,-10.983489,1.1031898,-0.07931475,-9.497354,5.0829506,-9.673348,4.83507,-21.005625,1.6539308,27.45951,-4.7195673,-24.568306,1.6906136,0.4554504,-5.786042,4.022227,0.8946682,-11.038822,25.317894,14.737719,-14.110562,0.6777908,30.717339,-1.1886704,1.7075499,4.337203,0.9987902,7.5819507,24.614473,30.114237,6.366097,1.6542495,2.6523247,1.8176332,-14.114609,0.9616923,-9.975221,5.6212997,48.119404,0.6236848,0.49545476,7.608684,-9.160173,-12.084777,-8.99492,3.001455,-6.331965,3.0340037,-49.277332,5.324992,4.9011235,-2.6235023,-14.908394,7.7303705,-3.2486997,3.9864202,-10.909133,-1.505879,6.1707587,-28.639597,2.0118804,-0.71080047,36.6076,34.223087,3.1151354,24.29868,23.676485,11.032974,-39.611,-26.66725,-24.579868,14.368571,-9.52302,17.886854,-0.7658971,-23.63926,26.036198,6.4152102,-32.435394,4.848136,2.7375653,5.8524075,5.253358,6.9217777,34.975616,6.929331,0.8624776,-12.418468,17.20797,18.024712,-13.530212,11.418608,11.992844,11.535365,4.801995,2.0717933,-23.164637,15.666235,4.3637323,20.716835,4.4463577,5.3819814,6.997843,2.3951776,2.6721659,36.981007,5.2409754,28.100008,-5.764142,27.512154,14.872641,5.216284,5.8755913,24.864424,-16.42292,3.2463458,-13.542765,10.763233,34.294235,2.3485525,-10.419192,36.732132,-0.39614996,-9.4348545,-26.305738,-3.0197585,1.6265509,22.212437,-32.512024,16.454054,-10.250612,32.308693,10.740685,8.927667,27.403347,-12.353515,2.0535846,8.047311,0.89304316,5.6682854,2.2120965,25.394014,-5.8026237,-53.495728,39.184,4.5408792,7.829614,-20.016216,14.142611,3.5544393,-0.33806852,5.09946,2.7920964,7.5711823,4.785509,-49.07803,-45.80611,-0.1763124,-23.017359,-7.7823005,0.93463284,-2.41253,-0.8323217,26.741844,-25.65748,-45.153904,3.79249,0.13576506,7.7025785,-16.416311,26.107761,-40.019184,36.438812,3.3544161,11.798173,-23.89565,5.3541503,17.949547,19.60222,-1.6265628,16.443655,-19.080294,-7.3812194,6.66813,-4.1697903,13.41946,-16.270483,10.075585,26.77415],\"xaxis\":\"x\",\"y\":[22.100842,22.480606,22.1721,4.081856,19.812222,55.01582,23.740808,-38.041706,53.091644,29.800695,50.267483,21.116896,22.172474,-55.764595,19.679653,30.955057,19.621563,3.9758446,50.34027,27.774483,22.276117,5.187403,47.862965,13.34323,51.341152,-48.613895,49.854427,22.364197,21.154015,49.424744,46.614166,24.04975,22.789164,44.058838,26.299084,27.63384,21.260231,13.445507,23.712751,48.96468,11.539924,18.938564,29.206453,-40.418766,29.11944,24.055359,24.94926,-14.144625,31.152172,9.812197,22.859392,26.12534,43.099983,19.194248,46.387215,39.31098,28.799793,19.879534,30.158886,-12.59849,31.22167,39.47388,-28.401285,15.5715685,-45.113537,42.48261,12.0438,21.159033,12.864937,27.69809,1.8813692,52.093517,14.23462,41.61179,-35.81701,10.080968,48.18475,10.723513,10.515686,2.353357,22.871374,47.88156,-2.4646492,19.584267,-0.5768833,13.03274,6.694138,37.428585,27.650572,30.461306,-55.222595,8.812007,3.8733115,26.37299,25.620913,15.449377,25.627216,22.407501,25.309748,-9.23073,46.903816,24.59167,-57.533123,35.22779,28.870445,21.27607,40.854156,9.393402,1.5761117,4.0708447,12.844452,29.602127,31.260914,25.431547,11.307308,35.119293,21.36851,13.606156,20.883198,-48.665947,14.600598,30.541641,-39.08006,-36.9379,49.32157,-30.43611,13.554376,21.397518,24.026436,18.189817,25.48352,24.281141,34.4696,-12.728334,19.614264,-8.882686,22.977966,13.418337,2.3096926,8.012462,5.8723083,44.736378,45.68939,-18.639742,42.054398,-39.19458,40.497044,8.866853,13.083624,22.362892,31.127098,9.807829,49.557575,-56.39415,7.5043883,34.34935,4.0559325,25.9145,35.31614,43.676517,26.115099,25.54647,13.608029,38.18357,4.0900164,29.561127,-12.641753,-10.142567,24.29844,-17.076744,-26.136724,24.999945,8.304768,-54.362934,47.837093,-42.68022,-9.782901,4.738674,-56.121864,-45.194088,2.2224576,5.7248836,2.1218998,36.467045,29.413725,-42.137737,7.547304,3.9566772,-7.856154,33.636284,13.841536,3.781704,10.873538,20.824738,19.06941,-5.881946,24.06079,18.49256,-60.522297,18.34972],\"yaxis\":\"y\",\"type\":\"scatter\"}],                        {\"template\":{\"data\":{\"histogram2dcontour\":[{\"type\":\"histogram2dcontour\",\"colorbar\":{\"outlinewidth\":0,\"ticks\":\"\"},\"colorscale\":[[0.0,\"#0d0887\"],[0.1111111111111111,\"#46039f\"],[0.2222222222222222,\"#7201a8\"],[0.3333333333333333,\"#9c179e\"],[0.4444444444444444,\"#bd3786\"],[0.5555555555555556,\"#d8576b\"],[0.6666666666666666,\"#ed7953\"],[0.7777777777777778,\"#fb9f3a\"],[0.8888888888888888,\"#fdca26\"],[1.0,\"#f0f921\"]]}],\"choropleth\":[{\"type\":\"choropleth\",\"colorbar\":{\"outlinewidth\":0,\"ticks\":\"\"}}],\"histogram2d\":[{\"type\":\"histogram2d\",\"colorbar\":{\"outlinewidth\":0,\"ticks\":\"\"},\"colorscale\":[[0.0,\"#0d0887\"],[0.1111111111111111,\"#46039f\"],[0.2222222222222222,\"#7201a8\"],[0.3333333333333333,\"#9c179e\"],[0.4444444444444444,\"#bd3786\"],[0.5555555555555556,\"#d8576b\"],[0.6666666666666666,\"#ed7953\"],[0.7777777777777778,\"#fb9f3a\"],[0.8888888888888888,\"#fdca26\"],[1.0,\"#f0f921\"]]}],\"heatmap\":[{\"type\":\"heatmap\",\"colorbar\":{\"outlinewidth\":0,\"ticks\":\"\"},\"colorscale\":[[0.0,\"#0d0887\"],[0.1111111111111111,\"#46039f\"],[0.2222222222222222,\"#7201a8\"],[0.3333333333333333,\"#9c179e\"],[0.4444444444444444,\"#bd3786\"],[0.5555555555555556,\"#d8576b\"],[0.6666666666666666,\"#ed7953\"],[0.7777777777777778,\"#fb9f3a\"],[0.8888888888888888,\"#fdca26\"],[1.0,\"#f0f921\"]]}],\"heatmapgl\":[{\"type\":\"heatmapgl\",\"colorbar\":{\"outlinewidth\":0,\"ticks\":\"\"},\"colorscale\":[[0.0,\"#0d0887\"],[0.1111111111111111,\"#46039f\"],[0.2222222222222222,\"#7201a8\"],[0.3333333333333333,\"#9c179e\"],[0.4444444444444444,\"#bd3786\"],[0.5555555555555556,\"#d8576b\"],[0.6666666666666666,\"#ed7953\"],[0.7777777777777778,\"#fb9f3a\"],[0.8888888888888888,\"#fdca26\"],[1.0,\"#f0f921\"]]}],\"contourcarpet\":[{\"type\":\"contourcarpet\",\"colorbar\":{\"outlinewidth\":0,\"ticks\":\"\"}}],\"contour\":[{\"type\":\"contour\",\"colorbar\":{\"outlinewidth\":0,\"ticks\":\"\"},\"colorscale\":[[0.0,\"#0d0887\"],[0.1111111111111111,\"#46039f\"],[0.2222222222222222,\"#7201a8\"],[0.3333333333333333,\"#9c179e\"],[0.4444444444444444,\"#bd3786\"],[0.5555555555555556,\"#d8576b\"],[0.6666666666666666,\"#ed7953\"],[0.7777777777777778,\"#fb9f3a\"],[0.8888888888888888,\"#fdca26\"],[1.0,\"#f0f921\"]]}],\"surface\":[{\"type\":\"surface\",\"colorbar\":{\"outlinewidth\":0,\"ticks\":\"\"},\"colorscale\":[[0.0,\"#0d0887\"],[0.1111111111111111,\"#46039f\"],[0.2222222222222222,\"#7201a8\"],[0.3333333333333333,\"#9c179e\"],[0.4444444444444444,\"#bd3786\"],[0.5555555555555556,\"#d8576b\"],[0.6666666666666666,\"#ed7953\"],[0.7777777777777778,\"#fb9f3a\"],[0.8888888888888888,\"#fdca26\"],[1.0,\"#f0f921\"]]}],\"mesh3d\":[{\"type\":\"mesh3d\",\"colorbar\":{\"outlinewidth\":0,\"ticks\":\"\"}}],\"scatter\":[{\"fillpattern\":{\"fillmode\":\"overlay\",\"size\":10,\"solidity\":0.2},\"type\":\"scatter\"}],\"parcoords\":[{\"type\":\"parcoords\",\"line\":{\"colorbar\":{\"outlinewidth\":0,\"ticks\":\"\"}}}],\"scatterpolargl\":[{\"type\":\"scatterpolargl\",\"marker\":{\"colorbar\":{\"outlinewidth\":0,\"ticks\":\"\"}}}],\"bar\":[{\"error_x\":{\"color\":\"#2a3f5f\"},\"error_y\":{\"color\":\"#2a3f5f\"},\"marker\":{\"line\":{\"color\":\"#E5ECF6\",\"width\":0.5},\"pattern\":{\"fillmode\":\"overlay\",\"size\":10,\"solidity\":0.2}},\"type\":\"bar\"}],\"scattergeo\":[{\"type\":\"scattergeo\",\"marker\":{\"colorbar\":{\"outlinewidth\":0,\"ticks\":\"\"}}}],\"scatterpolar\":[{\"type\":\"scatterpolar\",\"marker\":{\"colorbar\":{\"outlinewidth\":0,\"ticks\":\"\"}}}],\"histogram\":[{\"marker\":{\"pattern\":{\"fillmode\":\"overlay\",\"size\":10,\"solidity\":0.2}},\"type\":\"histogram\"}],\"scattergl\":[{\"type\":\"scattergl\",\"marker\":{\"colorbar\":{\"outlinewidth\":0,\"ticks\":\"\"}}}],\"scatter3d\":[{\"type\":\"scatter3d\",\"line\":{\"colorbar\":{\"outlinewidth\":0,\"ticks\":\"\"}},\"marker\":{\"colorbar\":{\"outlinewidth\":0,\"ticks\":\"\"}}}],\"scattermapbox\":[{\"type\":\"scattermapbox\",\"marker\":{\"colorbar\":{\"outlinewidth\":0,\"ticks\":\"\"}}}],\"scatterternary\":[{\"type\":\"scatterternary\",\"marker\":{\"colorbar\":{\"outlinewidth\":0,\"ticks\":\"\"}}}],\"scattercarpet\":[{\"type\":\"scattercarpet\",\"marker\":{\"colorbar\":{\"outlinewidth\":0,\"ticks\":\"\"}}}],\"carpet\":[{\"aaxis\":{\"endlinecolor\":\"#2a3f5f\",\"gridcolor\":\"white\",\"linecolor\":\"white\",\"minorgridcolor\":\"white\",\"startlinecolor\":\"#2a3f5f\"},\"baxis\":{\"endlinecolor\":\"#2a3f5f\",\"gridcolor\":\"white\",\"linecolor\":\"white\",\"minorgridcolor\":\"white\",\"startlinecolor\":\"#2a3f5f\"},\"type\":\"carpet\"}],\"table\":[{\"cells\":{\"fill\":{\"color\":\"#EBF0F8\"},\"line\":{\"color\":\"white\"}},\"header\":{\"fill\":{\"color\":\"#C8D4E3\"},\"line\":{\"color\":\"white\"}},\"type\":\"table\"}],\"barpolar\":[{\"marker\":{\"line\":{\"color\":\"#E5ECF6\",\"width\":0.5},\"pattern\":{\"fillmode\":\"overlay\",\"size\":10,\"solidity\":0.2}},\"type\":\"barpolar\"}],\"pie\":[{\"automargin\":true,\"type\":\"pie\"}]},\"layout\":{\"autotypenumbers\":\"strict\",\"colorway\":[\"#636efa\",\"#EF553B\",\"#00cc96\",\"#ab63fa\",\"#FFA15A\",\"#19d3f3\",\"#FF6692\",\"#B6E880\",\"#FF97FF\",\"#FECB52\"],\"font\":{\"color\":\"#2a3f5f\"},\"hovermode\":\"closest\",\"hoverlabel\":{\"align\":\"left\"},\"paper_bgcolor\":\"white\",\"plot_bgcolor\":\"#E5ECF6\",\"polar\":{\"bgcolor\":\"#E5ECF6\",\"angularaxis\":{\"gridcolor\":\"white\",\"linecolor\":\"white\",\"ticks\":\"\"},\"radialaxis\":{\"gridcolor\":\"white\",\"linecolor\":\"white\",\"ticks\":\"\"}},\"ternary\":{\"bgcolor\":\"#E5ECF6\",\"aaxis\":{\"gridcolor\":\"white\",\"linecolor\":\"white\",\"ticks\":\"\"},\"baxis\":{\"gridcolor\":\"white\",\"linecolor\":\"white\",\"ticks\":\"\"},\"caxis\":{\"gridcolor\":\"white\",\"linecolor\":\"white\",\"ticks\":\"\"}},\"coloraxis\":{\"colorbar\":{\"outlinewidth\":0,\"ticks\":\"\"}},\"colorscale\":{\"sequential\":[[0.0,\"#0d0887\"],[0.1111111111111111,\"#46039f\"],[0.2222222222222222,\"#7201a8\"],[0.3333333333333333,\"#9c179e\"],[0.4444444444444444,\"#bd3786\"],[0.5555555555555556,\"#d8576b\"],[0.6666666666666666,\"#ed7953\"],[0.7777777777777778,\"#fb9f3a\"],[0.8888888888888888,\"#fdca26\"],[1.0,\"#f0f921\"]],\"sequentialminus\":[[0.0,\"#0d0887\"],[0.1111111111111111,\"#46039f\"],[0.2222222222222222,\"#7201a8\"],[0.3333333333333333,\"#9c179e\"],[0.4444444444444444,\"#bd3786\"],[0.5555555555555556,\"#d8576b\"],[0.6666666666666666,\"#ed7953\"],[0.7777777777777778,\"#fb9f3a\"],[0.8888888888888888,\"#fdca26\"],[1.0,\"#f0f921\"]],\"diverging\":[[0,\"#8e0152\"],[0.1,\"#c51b7d\"],[0.2,\"#de77ae\"],[0.3,\"#f1b6da\"],[0.4,\"#fde0ef\"],[0.5,\"#f7f7f7\"],[0.6,\"#e6f5d0\"],[0.7,\"#b8e186\"],[0.8,\"#7fbc41\"],[0.9,\"#4d9221\"],[1,\"#276419\"]]},\"xaxis\":{\"gridcolor\":\"white\",\"linecolor\":\"white\",\"ticks\":\"\",\"title\":{\"standoff\":15},\"zerolinecolor\":\"white\",\"automargin\":true,\"zerolinewidth\":2},\"yaxis\":{\"gridcolor\":\"white\",\"linecolor\":\"white\",\"ticks\":\"\",\"title\":{\"standoff\":15},\"zerolinecolor\":\"white\",\"automargin\":true,\"zerolinewidth\":2},\"scene\":{\"xaxis\":{\"backgroundcolor\":\"#E5ECF6\",\"gridcolor\":\"white\",\"linecolor\":\"white\",\"showbackground\":true,\"ticks\":\"\",\"zerolinecolor\":\"white\",\"gridwidth\":2},\"yaxis\":{\"backgroundcolor\":\"#E5ECF6\",\"gridcolor\":\"white\",\"linecolor\":\"white\",\"showbackground\":true,\"ticks\":\"\",\"zerolinecolor\":\"white\",\"gridwidth\":2},\"zaxis\":{\"backgroundcolor\":\"#E5ECF6\",\"gridcolor\":\"white\",\"linecolor\":\"white\",\"showbackground\":true,\"ticks\":\"\",\"zerolinecolor\":\"white\",\"gridwidth\":2}},\"shapedefaults\":{\"line\":{\"color\":\"#2a3f5f\"}},\"annotationdefaults\":{\"arrowcolor\":\"#2a3f5f\",\"arrowhead\":0,\"arrowwidth\":1},\"geo\":{\"bgcolor\":\"white\",\"landcolor\":\"#E5ECF6\",\"subunitcolor\":\"white\",\"showland\":true,\"showlakes\":true,\"lakecolor\":\"white\"},\"title\":{\"x\":0.05},\"mapbox\":{\"style\":\"light\"}}},\"xaxis\":{\"anchor\":\"y\",\"domain\":[0.0,1.0],\"title\":{\"text\":\"x\"}},\"yaxis\":{\"anchor\":\"x\",\"domain\":[0.0,1.0],\"title\":{\"text\":\"y\"}},\"legend\":{\"tracegroupgap\":0},\"margin\":{\"t\":60}},                        {\"responsive\": true}                    ).then(function(){\n",
              "                            \n",
              "var gd = document.getElementById('2fd035e7-7b41-4771-9a63-6fa950749160');\n",
              "var x = new MutationObserver(function (mutations, observer) {{\n",
              "        var display = window.getComputedStyle(gd).display;\n",
              "        if (!display || display === 'none') {{\n",
              "            console.log([gd, 'removed!']);\n",
              "            Plotly.purge(gd);\n",
              "            observer.disconnect();\n",
              "        }}\n",
              "}});\n",
              "\n",
              "// Listen for the removal of the full notebook cells\n",
              "var notebookContainer = gd.closest('#notebook-container');\n",
              "if (notebookContainer) {{\n",
              "    x.observe(notebookContainer, {childList: true});\n",
              "}}\n",
              "\n",
              "// Listen for the clearing of the current output cell\n",
              "var outputEl = gd.closest('.output');\n",
              "if (outputEl) {{\n",
              "    x.observe(outputEl, {childList: true});\n",
              "}}\n",
              "\n",
              "                        })                };                            </script>        </div>\n",
              "</body>\n",
              "</html>"
            ]
          },
          "metadata": {},
          "output_type": "display_data"
        }
      ],
      "source": [
        "# Graficar los embedddings en 2D\n",
        "import plotly.graph_objects as go\n",
        "import plotly.express as px\n",
        "\n",
        "vecs, labels = reduce_dimensions(w2v_model)\n",
        "\n",
        "MAX_WORDS=200\n",
        "fig = px.scatter(x=vecs[:MAX_WORDS,0], y=vecs[:MAX_WORDS,1], text=labels[:MAX_WORDS])\n",
        "fig.show(renderer=\"colab\") # esto para plotly en colab"
      ]
    },
    {
      "cell_type": "code",
      "execution_count": null,
      "metadata": {
        "colab": {
          "background_save": true
        },
        "id": "7t3MJTtV2HR9",
        "outputId": "0e5579db-7079-4610-cc0a-1a85db618908"
      },
      "outputs": [
        {
          "data": {
            "text/html": [
              "<html>\n",
              "<head><meta charset=\"utf-8\" /></head>\n",
              "<body>\n",
              "    <div>            <script src=\"https://cdnjs.cloudflare.com/ajax/libs/mathjax/2.7.5/MathJax.js?config=TeX-AMS-MML_SVG\"></script><script type=\"text/javascript\">if (window.MathJax && window.MathJax.Hub && window.MathJax.Hub.Config) {window.MathJax.Hub.Config({SVG: {font: \"STIX-Web\"}});}</script>                <script type=\"text/javascript\">window.PlotlyConfig = {MathJaxConfig: 'local'};</script>\n",
              "        <script charset=\"utf-8\" src=\"https://cdn.plot.ly/plotly-2.35.2.min.js\"></script>                <div id=\"0319c470-6e89-4aa7-a8ba-f435c583701d\" class=\"plotly-graph-div\" style=\"height:525px; width:100%;\"></div>            <script type=\"text/javascript\">                                    window.PLOTLYENV=window.PLOTLYENV || {};                                    if (document.getElementById(\"0319c470-6e89-4aa7-a8ba-f435c583701d\")) {                    Plotly.newPlot(                        \"0319c470-6e89-4aa7-a8ba-f435c583701d\",                        [{\"hovertemplate\":\"x=%{x}\\u003cbr\\u003ey=%{y}\\u003cbr\\u003ez=%{z}\\u003cbr\\u003etext=%{text}\\u003cextra\\u003e\\u003c\\u002fextra\\u003e\",\"legendgroup\":\"\",\"marker\":{\"color\":\"#636efa\",\"symbol\":\"circle\",\"size\":2},\"mode\":\"markers+text\",\"name\":\"\",\"scene\":\"scene\",\"showlegend\":false,\"text\":[\"de\",\"que\",\"y\",\"la\",\"el\",\"en\",\"a\",\"los\",\"se\",\"no\",\"por\",\"su\",\"con\",\"las\",\"un\",\"lo\",\"del\",\"una\",\"al\",\"es\",\"para\",\"como\",\"le\",\"más\",\"me\",\"sus\",\"si\",\"pero\",\"mi\",\"había\",\"yo\",\"él\",\"porque\",\"sin\",\"todo\",\"era\",\"cuando\",\"o\",\"á\",\"ha\",\"ni\",\"ya\",\"tan\",\"todos\",\"muy\",\"ella\",\"así\",\"sobre\",\"bien\",\"ser\",\"pues\",\"esta\",\"te\",\"este\",\"dijo\",\"señor\",\"dios\",\"hasta\",\"usted\",\"dos\",\"esto\",\"qué\",\"entre\",\"hombre\",\"son\",\"—\",\"fue\",\"tu\",\"mismo\",\"estaba\",\"casa\",\"nos\",\"otro\",\"después\",\"ellos\",\"también\",\"he\",\"sino\",\"tiempo\",\"donde\",\"rey\",\"les\",\"vida\",\"aquel\",\"gran\",\"día\",\"uno\",\"os\",\"está\",\"don\",\"todas\",\"vez\",\"otra\",\"hay\",\"mucho\",\"hacer\",\"tanto\",\"cual\",\"entonces\",\"toda\",\"mí\",\"quien\",\"cosas\",\"tal\",\"sí\",\"siempre\",\"aquí\",\"allí\",\"parte\",\"aquella\",\"tenía\",\"nada\",\"eso\",\"poco\",\"desde\",\"ahora\",\"decir\",\"cosa\",\"puede\",\"mis\",\"antes\",\"»\",\"hombres\",\"otros\",\"han\",\"ojos\",\"cada\",\"luego\",\"tiene\",\"ver\",\"aunque\",\"mujer\",\"hecho\",\"tierra\",\"ese\",\"mano\",\"padre\",\"menos\",\"amor\",\"noche\",\"mundo\",\"—dijo\",\"sólo\",\"contra\",\"tú\",\"e\",\"yahveh\",\"fin\",\"hizo\",\"mas\",\"mal\",\"corazón\",\"habían\",\"veces\",\"hijo\",\"sido\",\"esa\",\"hace\",\"señora\",\"sea\",\"cuanto\",\"verdad\",\"manera\",\"¿qué\",\"alma\",\"nunca\",\"tres\",\"años\",\"algo\",\"cabeza\",\"medio\",\"mejor\",\"mientras\",\"otras\",\"haber\",\"manos\",\"días\",\"misma\",\"estas\",\"eran\",\"hacia\",\"modo\",\"pueblo\",\"dicho\",\"cómo\",\"estos\",\"lugar\",\"alguna\",\"mayor\",\"parece\",\"solo\",\"muerte\",\"momento\",\"nombre\",\"nosotros\",\"voz\",\"dice\",\"joven\",\"palabras\",\"podía\"],\"x\":[11.133963,35.090252,11.613063,-14.402477,1.1253794,-3.2563508,42.6747,-43.923454,54.721176,64.07438,12.361055,-12.609457,12.059603,-14.065205,0.51347834,17.984081,-19.263311,-16.0938,27.573252,5.817086,26.353779,30.072256,-42.053677,-17.065695,36.20418,6.583549,10.379802,12.270723,-12.825926,43.431263,18.364275,41.90437,35.60035,8.55706,5.2670636,3.8998861,32.226864,-53.972233,42.14116,45.733032,47.034847,32.29775,9.550798,-33.922558,9.963842,41.90425,4.562778,8.410547,16.633963,12.80694,35.791344,-3.7030735,35.52819,-5.266925,6.0263505,14.144145,14.363479,-59.87702,46.834923,-57.46324,15.478947,37.483757,-9.336945,-0.7170544,-18.76993,26.634481,37.243725,-12.123682,47.549965,38.778168,-15.619973,49.286663,25.608097,45.50112,-13.676577,4.849437,48.165363,1.8578703,6.921306,-43.01148,8.36614,-42.055542,-7.368175,0.40869367,-8.181052,34.629772,-62.03168,27.948347,39.450146,10.462865,-20.853437,1.118896,-17.833038,9.708329,57.19396,45.940956,55.181328,34.967617,-6.4401774,-27.048944,44.1064,20.21244,2.6573434,-19.409006,19.303263,26.719368,16.380268,5.0473943,-10.13665,-14.407592,12.1877775,14.946461,16.199982,55.40323,42.401157,21.592247,20.78346,-10.177029,34.3597,7.1600146,54.427525,21.820461,-27.973124,-25.43094,44.934788,4.258742,25.688889,28.408594,13.425212,37.61184,2.8727393,-12.98376,47.9045,-39.713097,0.41922733,7.2381682,8.0072775,-17.488222,0.6608371,-21.98507,4.657729,13.53155,60.247787,2.6098702,22.942942,-21.172432,20.893034,48.135406,43.45894,12.591953,15.279056,3.152211,43.4633,-34.22037,-13.901425,47.54103,-14.639171,53.700428,2.8580818,6.061315,11.006734,-0.92301416,-9.629568,19.785429,-9.132075,64.165016,-57.36214,-55.586353,8.019661,7.9868526,-55.577488,3.6970253,23.919464,-21.058012,51.73737,0.5309978,-57.190735,-7.958761,-13.640447,-18.251846,21.0775,-32.74617,-41.777832,54.700844,15.5671015,-16.23379,-8.317621,-16.549883,-33.694435,29.332483,23.555433,4.7496576,31.47755,-29.444084,33.81375,-29.112263,-7.168794,7.3324876,1.8569268,43.283085],\"y\":[10.047696,-32.675697,9.278069,30.608858,-3.8878977,30.696327,-31.595823,6.1182313,-27.649305,5.590669,36.76311,29.929953,10.623251,-8.734682,-4.3962326,23.769112,4.7012877,30.311605,-33.91665,34.795975,31.914537,-39.47259,-0.16529402,49.001896,-12.429906,-29.053864,9.011324,8.544643,29.487276,-17.603445,28.205479,-38.628696,-31.658545,56.3411,29.75908,33.165577,-33.871487,13.354594,-31.852015,-14.09064,37.904842,-15.148967,23.016499,12.9180975,26.646912,-38.62894,34.73079,-24.534454,20.66335,58.57981,-31.274137,33.992424,-5.4887304,14.033008,-0.1813586,-4.988235,13.286585,5.6716113,-25.738316,-17.851732,21.82714,10.223184,-8.257789,-2.0090752,3.7834332,6.026363,-26.455675,30.212954,-37.171917,-14.959372,-29.318003,-30.015339,-12.82815,-42.857395,49.30609,53.69291,-12.698192,32.608345,6.5097013,-21.936934,-38.606266,-0.16474247,23.029718,-3.0335088,42.361366,-45.026257,10.830687,28.984665,-15.542731,-30.507355,7.542559,12.160696,30.082312,39.086784,-7.7975664,41.34286,-8.089723,-33.11379,32.64966,25.48265,43.847256,-19.53878,16.138563,27.965195,25.028015,30.55228,9.024366,-54.1613,44.613163,32.117847,14.034594,51.15034,20.973417,-9.877638,-12.379338,13.972943,54.94553,46.92064,28.321482,-28.810919,-6.7376065,1.7880225,11.848445,10.436605,-14.053195,-27.315197,-15.171759,-38.29588,12.58057,47.707573,32.44696,16.184954,-24.529202,-28.445488,-4.2378445,-39.459282,18.32487,49.095406,26.90454,-16.158892,8.885865,-7.3298273,22.884884,7.9241014,9.94291,4.5637617,-8.902576,-41.01947,-7.0442204,8.474127,21.027203,7.6557,-17.98282,-6.3414726,-47.650406,-22.491327,31.15704,-2.9817832,-8.831822,37.39913,35.41807,34.234615,47.87763,17.941248,22.467257,3.8914082,-16.78052,-25.468327,39.18022,-38.49682,22.18505,33.345844,-11.74725,-2.000041,-22.90886,-27.352497,-24.415888,21.47003,-6.780572,3.061304,-27.23951,38.904465,-24.332516,-22.01402,16.954086,25.492086,-48.47013,31.409615,31.33455,17.02305,-13.552966,28.348354,-48.027897,5.544666,-17.074389,-2.5708475,25.938234,-21.260084,-1.6456311,8.505529],\"z\":[-22.394299,-31.686024,-21.993946,-44.717224,-30.74504,-55.240356,-36.084564,27.588846,-16.956306,-0.6461239,-50.573437,-47.048634,-20.409485,60.02592,-31.300793,-30.08429,-41.866062,-43.69982,-37.862633,-46.970364,-9.57011,-9.029268,-51.109943,-30.91827,-49.690624,52.57652,-16.63058,-22.914297,-47.484386,-18.888016,-32.6388,-22.995289,-32.344246,-24.624043,-44.615772,-47.05219,-33.207924,-9.627052,-36.329033,-19.194275,17.463238,-11.606861,-50.558357,25.218338,-50.705864,-22.995327,-37.373734,13.201085,-29.242943,11.622059,-32.590595,-39.04113,-47.623943,-20.672585,-57.8095,-32.681507,-22.185066,-29.332022,-27.722252,2.669316,-31.846693,-49.02382,38.27046,-24.894636,37.201115,-44.5824,-19.651937,-47.035965,-17.895987,-22.596813,-6.0122623,-16.35544,-14.773712,4.200981,36.62472,-33.148956,-21.71125,14.691115,-10.444821,-9.507083,-17.135881,-51.110065,-17.823753,-31.629465,-26.00846,-14.995576,4.7872314,-21.256882,-23.577005,-40.358364,58.572247,-17.588705,-37.08945,-45.981327,-10.126482,16.273714,-11.900906,-31.330814,-52.31851,-8.350773,-11.179187,-19.596552,55.45223,-36.54285,-15.255262,-6.2578807,-27.20903,-13.981794,-30.270414,-45.394592,-5.5684786,-17.045692,-31.488342,-8.801863,-7.2580705,-25.672514,-20.168453,-31.216415,-6.369932,52.897858,8.499937,-16.120592,24.677977,14.344102,-18.674152,41.286243,-18.563526,-22.264868,-5.5489902,27.243597,-29.258804,-43.57867,-1.3792433,2.4572966,-30.068605,12.045012,-18.2013,-30.030912,-4.856091,-18.373127,-7.6596913,-56.7388,8.588161,2.74845,-28.201527,8.239489,-24.135351,-21.420303,32.088573,-23.070297,-29.552517,-5.102984,-18.40289,54.718563,-30.345177,9.750457,-44.10369,-10.021952,-46.222412,-48.7446,-33.85878,-35.73886,-28.819351,-31.98627,-17.481964,-2.1461074,3.9687684,-2.3126504,-36.630314,15.281814,-20.939299,-36.37415,20.57254,61.738804,-21.848188,44.390247,-3.7854407,-22.676882,59.246395,37.370388,15.339406,-26.641033,-10.89405,-8.734525,-22.790268,25.361658,-16.12834,-39.230152,-13.635115,-23.294907,-11.210654,-13.327927,-11.772611,-40.88643,-9.663962,-11.121532,-55.289192,-17.317476,56.594006,14.015134],\"type\":\"scatter3d\"}],                        {\"template\":{\"data\":{\"histogram2dcontour\":[{\"type\":\"histogram2dcontour\",\"colorbar\":{\"outlinewidth\":0,\"ticks\":\"\"},\"colorscale\":[[0.0,\"#0d0887\"],[0.1111111111111111,\"#46039f\"],[0.2222222222222222,\"#7201a8\"],[0.3333333333333333,\"#9c179e\"],[0.4444444444444444,\"#bd3786\"],[0.5555555555555556,\"#d8576b\"],[0.6666666666666666,\"#ed7953\"],[0.7777777777777778,\"#fb9f3a\"],[0.8888888888888888,\"#fdca26\"],[1.0,\"#f0f921\"]]}],\"choropleth\":[{\"type\":\"choropleth\",\"colorbar\":{\"outlinewidth\":0,\"ticks\":\"\"}}],\"histogram2d\":[{\"type\":\"histogram2d\",\"colorbar\":{\"outlinewidth\":0,\"ticks\":\"\"},\"colorscale\":[[0.0,\"#0d0887\"],[0.1111111111111111,\"#46039f\"],[0.2222222222222222,\"#7201a8\"],[0.3333333333333333,\"#9c179e\"],[0.4444444444444444,\"#bd3786\"],[0.5555555555555556,\"#d8576b\"],[0.6666666666666666,\"#ed7953\"],[0.7777777777777778,\"#fb9f3a\"],[0.8888888888888888,\"#fdca26\"],[1.0,\"#f0f921\"]]}],\"heatmap\":[{\"type\":\"heatmap\",\"colorbar\":{\"outlinewidth\":0,\"ticks\":\"\"},\"colorscale\":[[0.0,\"#0d0887\"],[0.1111111111111111,\"#46039f\"],[0.2222222222222222,\"#7201a8\"],[0.3333333333333333,\"#9c179e\"],[0.4444444444444444,\"#bd3786\"],[0.5555555555555556,\"#d8576b\"],[0.6666666666666666,\"#ed7953\"],[0.7777777777777778,\"#fb9f3a\"],[0.8888888888888888,\"#fdca26\"],[1.0,\"#f0f921\"]]}],\"heatmapgl\":[{\"type\":\"heatmapgl\",\"colorbar\":{\"outlinewidth\":0,\"ticks\":\"\"},\"colorscale\":[[0.0,\"#0d0887\"],[0.1111111111111111,\"#46039f\"],[0.2222222222222222,\"#7201a8\"],[0.3333333333333333,\"#9c179e\"],[0.4444444444444444,\"#bd3786\"],[0.5555555555555556,\"#d8576b\"],[0.6666666666666666,\"#ed7953\"],[0.7777777777777778,\"#fb9f3a\"],[0.8888888888888888,\"#fdca26\"],[1.0,\"#f0f921\"]]}],\"contourcarpet\":[{\"type\":\"contourcarpet\",\"colorbar\":{\"outlinewidth\":0,\"ticks\":\"\"}}],\"contour\":[{\"type\":\"contour\",\"colorbar\":{\"outlinewidth\":0,\"ticks\":\"\"},\"colorscale\":[[0.0,\"#0d0887\"],[0.1111111111111111,\"#46039f\"],[0.2222222222222222,\"#7201a8\"],[0.3333333333333333,\"#9c179e\"],[0.4444444444444444,\"#bd3786\"],[0.5555555555555556,\"#d8576b\"],[0.6666666666666666,\"#ed7953\"],[0.7777777777777778,\"#fb9f3a\"],[0.8888888888888888,\"#fdca26\"],[1.0,\"#f0f921\"]]}],\"surface\":[{\"type\":\"surface\",\"colorbar\":{\"outlinewidth\":0,\"ticks\":\"\"},\"colorscale\":[[0.0,\"#0d0887\"],[0.1111111111111111,\"#46039f\"],[0.2222222222222222,\"#7201a8\"],[0.3333333333333333,\"#9c179e\"],[0.4444444444444444,\"#bd3786\"],[0.5555555555555556,\"#d8576b\"],[0.6666666666666666,\"#ed7953\"],[0.7777777777777778,\"#fb9f3a\"],[0.8888888888888888,\"#fdca26\"],[1.0,\"#f0f921\"]]}],\"mesh3d\":[{\"type\":\"mesh3d\",\"colorbar\":{\"outlinewidth\":0,\"ticks\":\"\"}}],\"scatter\":[{\"fillpattern\":{\"fillmode\":\"overlay\",\"size\":10,\"solidity\":0.2},\"type\":\"scatter\"}],\"parcoords\":[{\"type\":\"parcoords\",\"line\":{\"colorbar\":{\"outlinewidth\":0,\"ticks\":\"\"}}}],\"scatterpolargl\":[{\"type\":\"scatterpolargl\",\"marker\":{\"colorbar\":{\"outlinewidth\":0,\"ticks\":\"\"}}}],\"bar\":[{\"error_x\":{\"color\":\"#2a3f5f\"},\"error_y\":{\"color\":\"#2a3f5f\"},\"marker\":{\"line\":{\"color\":\"#E5ECF6\",\"width\":0.5},\"pattern\":{\"fillmode\":\"overlay\",\"size\":10,\"solidity\":0.2}},\"type\":\"bar\"}],\"scattergeo\":[{\"type\":\"scattergeo\",\"marker\":{\"colorbar\":{\"outlinewidth\":0,\"ticks\":\"\"}}}],\"scatterpolar\":[{\"type\":\"scatterpolar\",\"marker\":{\"colorbar\":{\"outlinewidth\":0,\"ticks\":\"\"}}}],\"histogram\":[{\"marker\":{\"pattern\":{\"fillmode\":\"overlay\",\"size\":10,\"solidity\":0.2}},\"type\":\"histogram\"}],\"scattergl\":[{\"type\":\"scattergl\",\"marker\":{\"colorbar\":{\"outlinewidth\":0,\"ticks\":\"\"}}}],\"scatter3d\":[{\"type\":\"scatter3d\",\"line\":{\"colorbar\":{\"outlinewidth\":0,\"ticks\":\"\"}},\"marker\":{\"colorbar\":{\"outlinewidth\":0,\"ticks\":\"\"}}}],\"scattermapbox\":[{\"type\":\"scattermapbox\",\"marker\":{\"colorbar\":{\"outlinewidth\":0,\"ticks\":\"\"}}}],\"scatterternary\":[{\"type\":\"scatterternary\",\"marker\":{\"colorbar\":{\"outlinewidth\":0,\"ticks\":\"\"}}}],\"scattercarpet\":[{\"type\":\"scattercarpet\",\"marker\":{\"colorbar\":{\"outlinewidth\":0,\"ticks\":\"\"}}}],\"carpet\":[{\"aaxis\":{\"endlinecolor\":\"#2a3f5f\",\"gridcolor\":\"white\",\"linecolor\":\"white\",\"minorgridcolor\":\"white\",\"startlinecolor\":\"#2a3f5f\"},\"baxis\":{\"endlinecolor\":\"#2a3f5f\",\"gridcolor\":\"white\",\"linecolor\":\"white\",\"minorgridcolor\":\"white\",\"startlinecolor\":\"#2a3f5f\"},\"type\":\"carpet\"}],\"table\":[{\"cells\":{\"fill\":{\"color\":\"#EBF0F8\"},\"line\":{\"color\":\"white\"}},\"header\":{\"fill\":{\"color\":\"#C8D4E3\"},\"line\":{\"color\":\"white\"}},\"type\":\"table\"}],\"barpolar\":[{\"marker\":{\"line\":{\"color\":\"#E5ECF6\",\"width\":0.5},\"pattern\":{\"fillmode\":\"overlay\",\"size\":10,\"solidity\":0.2}},\"type\":\"barpolar\"}],\"pie\":[{\"automargin\":true,\"type\":\"pie\"}]},\"layout\":{\"autotypenumbers\":\"strict\",\"colorway\":[\"#636efa\",\"#EF553B\",\"#00cc96\",\"#ab63fa\",\"#FFA15A\",\"#19d3f3\",\"#FF6692\",\"#B6E880\",\"#FF97FF\",\"#FECB52\"],\"font\":{\"color\":\"#2a3f5f\"},\"hovermode\":\"closest\",\"hoverlabel\":{\"align\":\"left\"},\"paper_bgcolor\":\"white\",\"plot_bgcolor\":\"#E5ECF6\",\"polar\":{\"bgcolor\":\"#E5ECF6\",\"angularaxis\":{\"gridcolor\":\"white\",\"linecolor\":\"white\",\"ticks\":\"\"},\"radialaxis\":{\"gridcolor\":\"white\",\"linecolor\":\"white\",\"ticks\":\"\"}},\"ternary\":{\"bgcolor\":\"#E5ECF6\",\"aaxis\":{\"gridcolor\":\"white\",\"linecolor\":\"white\",\"ticks\":\"\"},\"baxis\":{\"gridcolor\":\"white\",\"linecolor\":\"white\",\"ticks\":\"\"},\"caxis\":{\"gridcolor\":\"white\",\"linecolor\":\"white\",\"ticks\":\"\"}},\"coloraxis\":{\"colorbar\":{\"outlinewidth\":0,\"ticks\":\"\"}},\"colorscale\":{\"sequential\":[[0.0,\"#0d0887\"],[0.1111111111111111,\"#46039f\"],[0.2222222222222222,\"#7201a8\"],[0.3333333333333333,\"#9c179e\"],[0.4444444444444444,\"#bd3786\"],[0.5555555555555556,\"#d8576b\"],[0.6666666666666666,\"#ed7953\"],[0.7777777777777778,\"#fb9f3a\"],[0.8888888888888888,\"#fdca26\"],[1.0,\"#f0f921\"]],\"sequentialminus\":[[0.0,\"#0d0887\"],[0.1111111111111111,\"#46039f\"],[0.2222222222222222,\"#7201a8\"],[0.3333333333333333,\"#9c179e\"],[0.4444444444444444,\"#bd3786\"],[0.5555555555555556,\"#d8576b\"],[0.6666666666666666,\"#ed7953\"],[0.7777777777777778,\"#fb9f3a\"],[0.8888888888888888,\"#fdca26\"],[1.0,\"#f0f921\"]],\"diverging\":[[0,\"#8e0152\"],[0.1,\"#c51b7d\"],[0.2,\"#de77ae\"],[0.3,\"#f1b6da\"],[0.4,\"#fde0ef\"],[0.5,\"#f7f7f7\"],[0.6,\"#e6f5d0\"],[0.7,\"#b8e186\"],[0.8,\"#7fbc41\"],[0.9,\"#4d9221\"],[1,\"#276419\"]]},\"xaxis\":{\"gridcolor\":\"white\",\"linecolor\":\"white\",\"ticks\":\"\",\"title\":{\"standoff\":15},\"zerolinecolor\":\"white\",\"automargin\":true,\"zerolinewidth\":2},\"yaxis\":{\"gridcolor\":\"white\",\"linecolor\":\"white\",\"ticks\":\"\",\"title\":{\"standoff\":15},\"zerolinecolor\":\"white\",\"automargin\":true,\"zerolinewidth\":2},\"scene\":{\"xaxis\":{\"backgroundcolor\":\"#E5ECF6\",\"gridcolor\":\"white\",\"linecolor\":\"white\",\"showbackground\":true,\"ticks\":\"\",\"zerolinecolor\":\"white\",\"gridwidth\":2},\"yaxis\":{\"backgroundcolor\":\"#E5ECF6\",\"gridcolor\":\"white\",\"linecolor\":\"white\",\"showbackground\":true,\"ticks\":\"\",\"zerolinecolor\":\"white\",\"gridwidth\":2},\"zaxis\":{\"backgroundcolor\":\"#E5ECF6\",\"gridcolor\":\"white\",\"linecolor\":\"white\",\"showbackground\":true,\"ticks\":\"\",\"zerolinecolor\":\"white\",\"gridwidth\":2}},\"shapedefaults\":{\"line\":{\"color\":\"#2a3f5f\"}},\"annotationdefaults\":{\"arrowcolor\":\"#2a3f5f\",\"arrowhead\":0,\"arrowwidth\":1},\"geo\":{\"bgcolor\":\"white\",\"landcolor\":\"#E5ECF6\",\"subunitcolor\":\"white\",\"showland\":true,\"showlakes\":true,\"lakecolor\":\"white\"},\"title\":{\"x\":0.05},\"mapbox\":{\"style\":\"light\"}}},\"scene\":{\"domain\":{\"x\":[0.0,1.0],\"y\":[0.0,1.0]},\"xaxis\":{\"title\":{\"text\":\"x\"}},\"yaxis\":{\"title\":{\"text\":\"y\"}},\"zaxis\":{\"title\":{\"text\":\"z\"}}},\"legend\":{\"tracegroupgap\":0},\"margin\":{\"t\":60}},                        {\"responsive\": true}                    ).then(function(){\n",
              "                            \n",
              "var gd = document.getElementById('0319c470-6e89-4aa7-a8ba-f435c583701d');\n",
              "var x = new MutationObserver(function (mutations, observer) {{\n",
              "        var display = window.getComputedStyle(gd).display;\n",
              "        if (!display || display === 'none') {{\n",
              "            console.log([gd, 'removed!']);\n",
              "            Plotly.purge(gd);\n",
              "            observer.disconnect();\n",
              "        }}\n",
              "}});\n",
              "\n",
              "// Listen for the removal of the full notebook cells\n",
              "var notebookContainer = gd.closest('#notebook-container');\n",
              "if (notebookContainer) {{\n",
              "    x.observe(notebookContainer, {childList: true});\n",
              "}}\n",
              "\n",
              "// Listen for the clearing of the current output cell\n",
              "var outputEl = gd.closest('.output');\n",
              "if (outputEl) {{\n",
              "    x.observe(outputEl, {childList: true});\n",
              "}}\n",
              "\n",
              "                        })                };                            </script>        </div>\n",
              "</body>\n",
              "</html>"
            ]
          },
          "metadata": {},
          "output_type": "display_data"
        }
      ],
      "source": [
        "# Graficar los embedddings en 3D\n",
        "\n",
        "vecs, labels = reduce_dimensions(w2v_model,3)\n",
        "\n",
        "fig = px.scatter_3d(x=vecs[:MAX_WORDS,0], y=vecs[:MAX_WORDS,1], z=vecs[:MAX_WORDS,2],text=labels[:MAX_WORDS])\n",
        "fig.update_traces(marker_size = 2)\n",
        "fig.show(renderer=\"colab\") # esto para plotly en colab"
      ]
    },
    {
      "cell_type": "code",
      "execution_count": null,
      "metadata": {
        "id": "DU2kNFSS2Kfz"
      },
      "outputs": [],
      "source": [
        "# También se pueden guardar los vectores y labels como tsv para graficar en\n",
        "# http://projector.tensorflow.org/\n",
        "\n",
        "\n",
        "vectors = np.asarray(w2v_model.wv.vectors)\n",
        "labels = list(w2v_model.wv.index_to_key)\n",
        "\n",
        "np.savetxt(\"vectors.tsv\", vectors, delimiter=\"\\t\")\n",
        "\n",
        "with open(\"labels.tsv\", \"w\") as fp:\n",
        "    for item in labels:\n",
        "        fp.write(\"%s\\n\" % item)"
      ]
    },
    {
      "cell_type": "code",
      "execution_count": null,
      "metadata": {
        "id": "jaqBEayaRmTN"
      },
      "outputs": [],
      "source": [
        "resultado = w2v_model.wv.most_similar(positive=['rey', 'mujer'], negative=['hombre'], topn=1)\n",
        "print(resultado)"
      ]
    }
  ],
  "metadata": {
    "colab": {
      "provenance": [],
      "include_colab_link": true
    },
    "kernelspec": {
      "display_name": "nlp",
      "language": "python",
      "name": "python3"
    },
    "language_info": {
      "codemirror_mode": {
        "name": "ipython",
        "version": 3
      },
      "file_extension": ".py",
      "mimetype": "text/x-python",
      "name": "python",
      "nbconvert_exporter": "python",
      "pygments_lexer": "ipython3",
      "version": "3.13.0"
    }
  },
  "nbformat": 4,
  "nbformat_minor": 0
}